{
 "cells": [
  {
   "cell_type": "markdown",
   "metadata": {},
   "source": [
    "I followed https://dataespresso.com/en/2019/02/07/fitbit-json-to-csv/\n",
    "to make sense of my csv data."
   ]
  },
  {
   "cell_type": "code",
   "execution_count": 1,
   "metadata": {},
   "outputs": [],
   "source": [
    "import pandas as pd\n",
    "import pandas_profiling\n",
    "import glob\n",
    "import matplotlib.pyplot as plt\n",
    "from pandas.plotting import register_matplotlib_converters\n",
    "register_matplotlib_converters()\n",
    "from datetime import datetime\n",
    "import pickle\n",
    "#Disables annoying warnings\n",
    "def warn(*args, **kwargs):\n",
    "    pass\n",
    "import warnings\n",
    "warnings.warn = warn\n",
    "\n",
    "#libaries\n",
    "import numpy as np\n",
    "import pandas as pd\n",
    "\n",
    "import os\n",
    "import tarfile\n",
    "import urllib\n",
    "from six.moves import urllib\n",
    "import pandas as pd\n",
    "import matplotlib.pyplot as plt\n",
    "import numpy as np\n",
    "from sklearn.model_selection import StratifiedShuffleSplit, cross_val_score, GridSearchCV, RandomizedSearchCV,cross_val_predict\n",
    "from sklearn.pipeline import Pipeline, FeatureUnion\n",
    "from sklearn.preprocessing import Imputer, OneHotEncoder, StandardScaler\n",
    "from sklearn.linear_model import LinearRegression\n",
    "from sklearn.metrics import mean_squared_error\n",
    "from sklearn.tree import DecisionTreeRegressor\n",
    "from sklearn.ensemble import RandomForestRegressor\n",
    "from scipy.stats import randint as sp_randint\n",
    "from sklearn.base import BaseEstimator, TransformerMixin\n",
    "import numpy as np\n",
    "from sklearn.utils import check_array\n",
    "from sklearn.preprocessing import LabelEncoder\n",
    "from scipy import sparse\n",
    "\n",
    "\n",
    "%matplotlib inline\n",
    "import matplotlib.pyplot as plt\n",
    "import tensorflow as tf"
   ]
  },
  {
   "cell_type": "code",
   "execution_count": 2,
   "metadata": {},
   "outputs": [],
   "source": [
    "## Creating lists of all the respective files in the directory\n",
    "heart_rate_file_list = glob.glob('GeorgeAshley/user-site-export/heart_rate-*')\n",
    "steps_file_list = glob.glob('GeorgeAshley/user-site-export/steps-*')\n",
    "altitude_file_list = glob.glob('GeorgeAshley/user-site-export/altitude-*')\n",
    "calories_file_list = glob.glob('GeorgeAshley/user-site-export/calories-*')\n",
    "sleep_file_list = glob.glob('GeorgeAshley/user-site-export/sleep-*')"
   ]
  },
  {
   "cell_type": "code",
   "execution_count": 3,
   "metadata": {},
   "outputs": [
    {
     "data": {
      "text/plain": [
       "['GeorgeAshley/user-site-export/sleep-2018-12-06.json',\n",
       " 'GeorgeAshley/user-site-export/sleep-2019-01-05.json',\n",
       " 'GeorgeAshley/user-site-export/sleep-2019-03-06.json',\n",
       " 'GeorgeAshley/user-site-export/sleep-2019-02-04.json',\n",
       " 'GeorgeAshley/user-site-export/sleep-2018-11-06.json',\n",
       " 'GeorgeAshley/user-site-export/sleep-2019-04-05.json',\n",
       " 'GeorgeAshley/user-site-export/sleep-2018-10-07.json']"
      ]
     },
     "metadata": {},
     "output_type": "display_data"
    }
   ],
   "source": [
    "display(sleep_file_list)"
   ]
  },
  {
   "cell_type": "code",
   "execution_count": 4,
   "metadata": {},
   "outputs": [],
   "source": [
    "def get_json_to_df(file_list = []):\n",
    "    df_list = []\n",
    "    for json_file in file_list:\n",
    "        df_list.append(pd.read_json(json_file))\n",
    "    df = pd.concat(df_list)\n",
    "    return df\n",
    "\n",
    "def make_new_df_value(x='',column_name=''):\n",
    "    try:\n",
    "        x = x[column_name]\n",
    "    except Exception as e:\n",
    "        print(e)\n",
    "        x = 0.0\n",
    "    return x\n",
    "    \n",
    "\n",
    "def merge_dataframes(df1,df2):\n",
    "    merged = pd.merge(df1, df2,how='outer', on='dateTime')\n",
    "    return merged"
   ]
  },
  {
   "cell_type": "code",
   "execution_count": 5,
   "metadata": {},
   "outputs": [],
   "source": [
    "heart_rate_df = get_json_to_df(file_list = heart_rate_file_list).reset_index()\n",
    "## Heart rate contains a sub json that are explicitly converted into column\n",
    "heart_rate_df['bpm'] = heart_rate_df['value'].transform(lambda x: make_new_df_value(x,'bpm'))\n",
    "heart_rate_df['confidence'] = heart_rate_df['value'].transform(lambda x: make_new_df_value(x,'confidence'))\n",
    "heart_rate_df = heart_rate_df.drop(['value','index'],axis=1)\n",
    "\n",
    "steps_df = get_json_to_df(file_list = steps_file_list).rename(columns={'value': 'steps'})\n",
    "altitude_df = get_json_to_df(file_list = altitude_file_list).rename(columns={'value': 'altitude'})\n",
    "calories_df = get_json_to_df(file_list = calories_file_list).rename(columns={'value': 'calories'})"
   ]
  },
  {
   "cell_type": "code",
   "execution_count": 6,
   "metadata": {},
   "outputs": [],
   "source": [
    "sleep_df = get_json_to_df(file_list = sleep_file_list).rename(columns={'timeInBed': 'timebed','minutesAsleep': 'minsleep'})"
   ]
  },
  {
   "cell_type": "code",
   "execution_count": 3,
   "metadata": {},
   "outputs": [],
   "source": [
    "sleep_df"
   ]
  },
  {
   "cell_type": "code",
   "execution_count": 25,
   "metadata": {},
   "outputs": [],
   "source": [
    "#Get relevant columns\n",
    "col_list = [\"dateOfSleep\",\"duration\",\"minsleep\",\"timebed\"]\n",
    "sleep_df = sleep_df[col_list]"
   ]
  },
  {
   "cell_type": "code",
   "execution_count": 169,
   "metadata": {},
   "outputs": [],
   "source": [
    "sdic = {}\n",
    "for x in sleep_df.iterrows():\n",
    "    sdic[x[1][0]] = (x[1][1],x[1][2],x[1][3])"
   ]
  },
  {
   "cell_type": "code",
   "execution_count": 37,
   "metadata": {},
   "outputs": [],
   "source": [
    "merged = merge_dataframes(heart_rate_df,steps_df)\n",
    "#merged = merge_dataframes(merged,altitude_df) #Altitude is useless\n",
    "merged = merge_dataframes(merged,calories_df)"
   ]
  },
  {
   "cell_type": "code",
   "execution_count": 39,
   "metadata": {},
   "outputs": [],
   "source": [
    "merged = merged.sort_values(by=['dateTime'])"
   ]
  },
  {
   "cell_type": "code",
   "execution_count": 105,
   "metadata": {},
   "outputs": [],
   "source": [
    "#Function to replace the new times in sleep with the dictionary values.\n",
    "def sleepfun(row, i):\n",
    "    time = str(row.dateTime.year) + \"-\" + str(row.dateTime.month) + \"-\" + str(row.dateTime.day).zfill(2)\n",
    "    if str(time) in sdic:\n",
    "        if i == \"duration\":\n",
    "            return int(sdic[time][0])\n",
    "        if i == \"minsleep\":\n",
    "            return int(sdic[time][1])\n",
    "        if i == \"timebed\":\n",
    "            return int(sdic[time][2])"
   ]
  },
  {
   "cell_type": "code",
   "execution_count": 98,
   "metadata": {},
   "outputs": [],
   "source": [
    "temp = merged[3000:3010]"
   ]
  },
  {
   "cell_type": "code",
   "execution_count": 104,
   "metadata": {
    "scrolled": true
   },
   "outputs": [
    {
     "data": {
      "text/html": [
       "<div>\n",
       "<style scoped>\n",
       "    .dataframe tbody tr th:only-of-type {\n",
       "        vertical-align: middle;\n",
       "    }\n",
       "\n",
       "    .dataframe tbody tr th {\n",
       "        vertical-align: top;\n",
       "    }\n",
       "\n",
       "    .dataframe thead th {\n",
       "        text-align: right;\n",
       "    }\n",
       "</style>\n",
       "<table border=\"1\" class=\"dataframe\">\n",
       "  <thead>\n",
       "    <tr style=\"text-align: right;\">\n",
       "      <th></th>\n",
       "      <th>dateTime</th>\n",
       "      <th>bpm</th>\n",
       "      <th>confidence</th>\n",
       "      <th>steps</th>\n",
       "      <th>calories</th>\n",
       "      <th>dateOfSleep</th>\n",
       "      <th>duration</th>\n",
       "      <th>minsleep</th>\n",
       "      <th>timebed</th>\n",
       "    </tr>\n",
       "  </thead>\n",
       "  <tbody>\n",
       "    <tr>\n",
       "      <th>2108175</th>\n",
       "      <td>2018-10-09 00:23:22</td>\n",
       "      <td>80.0</td>\n",
       "      <td>2.0</td>\n",
       "      <td>NaN</td>\n",
       "      <td>NaN</td>\n",
       "      <td>2018-10-09 00:23:22</td>\n",
       "      <td>32040000</td>\n",
       "      <td>2018-10-09 00:23:22</td>\n",
       "      <td>2018-10-09 00:23:22</td>\n",
       "    </tr>\n",
       "    <tr>\n",
       "      <th>2108176</th>\n",
       "      <td>2018-10-09 00:23:27</td>\n",
       "      <td>83.0</td>\n",
       "      <td>2.0</td>\n",
       "      <td>NaN</td>\n",
       "      <td>NaN</td>\n",
       "      <td>2018-10-09 00:23:27</td>\n",
       "      <td>32040000</td>\n",
       "      <td>2018-10-09 00:23:27</td>\n",
       "      <td>2018-10-09 00:23:27</td>\n",
       "    </tr>\n",
       "    <tr>\n",
       "      <th>2108177</th>\n",
       "      <td>2018-10-09 00:23:37</td>\n",
       "      <td>81.0</td>\n",
       "      <td>3.0</td>\n",
       "      <td>NaN</td>\n",
       "      <td>NaN</td>\n",
       "      <td>2018-10-09 00:23:37</td>\n",
       "      <td>32040000</td>\n",
       "      <td>2018-10-09 00:23:37</td>\n",
       "      <td>2018-10-09 00:23:37</td>\n",
       "    </tr>\n",
       "    <tr>\n",
       "      <th>2108178</th>\n",
       "      <td>2018-10-09 00:23:42</td>\n",
       "      <td>79.0</td>\n",
       "      <td>3.0</td>\n",
       "      <td>NaN</td>\n",
       "      <td>NaN</td>\n",
       "      <td>2018-10-09 00:23:42</td>\n",
       "      <td>32040000</td>\n",
       "      <td>2018-10-09 00:23:42</td>\n",
       "      <td>2018-10-09 00:23:42</td>\n",
       "    </tr>\n",
       "    <tr>\n",
       "      <th>2108179</th>\n",
       "      <td>2018-10-09 00:23:47</td>\n",
       "      <td>79.0</td>\n",
       "      <td>2.0</td>\n",
       "      <td>NaN</td>\n",
       "      <td>NaN</td>\n",
       "      <td>2018-10-09 00:23:47</td>\n",
       "      <td>32040000</td>\n",
       "      <td>2018-10-09 00:23:47</td>\n",
       "      <td>2018-10-09 00:23:47</td>\n",
       "    </tr>\n",
       "    <tr>\n",
       "      <th>2108180</th>\n",
       "      <td>2018-10-09 00:23:52</td>\n",
       "      <td>80.0</td>\n",
       "      <td>2.0</td>\n",
       "      <td>NaN</td>\n",
       "      <td>NaN</td>\n",
       "      <td>2018-10-09 00:23:52</td>\n",
       "      <td>32040000</td>\n",
       "      <td>2018-10-09 00:23:52</td>\n",
       "      <td>2018-10-09 00:23:52</td>\n",
       "    </tr>\n",
       "    <tr>\n",
       "      <th>2435790</th>\n",
       "      <td>2018-10-09 00:24:00</td>\n",
       "      <td>NaN</td>\n",
       "      <td>NaN</td>\n",
       "      <td>NaN</td>\n",
       "      <td>1.11</td>\n",
       "      <td>2018-10-09 00:24:00</td>\n",
       "      <td>32040000</td>\n",
       "      <td>2018-10-09 00:24:00</td>\n",
       "      <td>2018-10-09 00:24:00</td>\n",
       "    </tr>\n",
       "    <tr>\n",
       "      <th>2108181</th>\n",
       "      <td>2018-10-09 00:24:07</td>\n",
       "      <td>80.0</td>\n",
       "      <td>2.0</td>\n",
       "      <td>NaN</td>\n",
       "      <td>NaN</td>\n",
       "      <td>2018-10-09 00:24:07</td>\n",
       "      <td>32040000</td>\n",
       "      <td>2018-10-09 00:24:07</td>\n",
       "      <td>2018-10-09 00:24:07</td>\n",
       "    </tr>\n",
       "    <tr>\n",
       "      <th>2108182</th>\n",
       "      <td>2018-10-09 00:24:12</td>\n",
       "      <td>81.0</td>\n",
       "      <td>2.0</td>\n",
       "      <td>NaN</td>\n",
       "      <td>NaN</td>\n",
       "      <td>2018-10-09 00:24:12</td>\n",
       "      <td>32040000</td>\n",
       "      <td>2018-10-09 00:24:12</td>\n",
       "      <td>2018-10-09 00:24:12</td>\n",
       "    </tr>\n",
       "    <tr>\n",
       "      <th>2108183</th>\n",
       "      <td>2018-10-09 00:24:17</td>\n",
       "      <td>79.0</td>\n",
       "      <td>3.0</td>\n",
       "      <td>NaN</td>\n",
       "      <td>NaN</td>\n",
       "      <td>2018-10-09 00:24:17</td>\n",
       "      <td>32040000</td>\n",
       "      <td>2018-10-09 00:24:17</td>\n",
       "      <td>2018-10-09 00:24:17</td>\n",
       "    </tr>\n",
       "  </tbody>\n",
       "</table>\n",
       "</div>"
      ],
      "text/plain": [
       "                   dateTime   bpm  confidence  steps  calories  \\\n",
       "2108175 2018-10-09 00:23:22  80.0         2.0    NaN       NaN   \n",
       "2108176 2018-10-09 00:23:27  83.0         2.0    NaN       NaN   \n",
       "2108177 2018-10-09 00:23:37  81.0         3.0    NaN       NaN   \n",
       "2108178 2018-10-09 00:23:42  79.0         3.0    NaN       NaN   \n",
       "2108179 2018-10-09 00:23:47  79.0         2.0    NaN       NaN   \n",
       "2108180 2018-10-09 00:23:52  80.0         2.0    NaN       NaN   \n",
       "2435790 2018-10-09 00:24:00   NaN         NaN    NaN      1.11   \n",
       "2108181 2018-10-09 00:24:07  80.0         2.0    NaN       NaN   \n",
       "2108182 2018-10-09 00:24:12  81.0         2.0    NaN       NaN   \n",
       "2108183 2018-10-09 00:24:17  79.0         3.0    NaN       NaN   \n",
       "\n",
       "                dateOfSleep  duration            minsleep             timebed  \n",
       "2108175 2018-10-09 00:23:22  32040000 2018-10-09 00:23:22 2018-10-09 00:23:22  \n",
       "2108176 2018-10-09 00:23:27  32040000 2018-10-09 00:23:27 2018-10-09 00:23:27  \n",
       "2108177 2018-10-09 00:23:37  32040000 2018-10-09 00:23:37 2018-10-09 00:23:37  \n",
       "2108178 2018-10-09 00:23:42  32040000 2018-10-09 00:23:42 2018-10-09 00:23:42  \n",
       "2108179 2018-10-09 00:23:47  32040000 2018-10-09 00:23:47 2018-10-09 00:23:47  \n",
       "2108180 2018-10-09 00:23:52  32040000 2018-10-09 00:23:52 2018-10-09 00:23:52  \n",
       "2435790 2018-10-09 00:24:00  32040000 2018-10-09 00:24:00 2018-10-09 00:24:00  \n",
       "2108181 2018-10-09 00:24:07  32040000 2018-10-09 00:24:07 2018-10-09 00:24:07  \n",
       "2108182 2018-10-09 00:24:12  32040000 2018-10-09 00:24:12 2018-10-09 00:24:12  \n",
       "2108183 2018-10-09 00:24:17  32040000 2018-10-09 00:24:17 2018-10-09 00:24:17  "
      ]
     },
     "execution_count": 104,
     "metadata": {},
     "output_type": "execute_result"
    }
   ],
   "source": [
    "temp #Lot of missing data due to different time-step scales"
   ]
  },
  {
   "cell_type": "code",
   "execution_count": 100,
   "metadata": {},
   "outputs": [
    {
     "data": {
      "text/plain": [
       "(32040000, 459, 534)"
      ]
     },
     "execution_count": 100,
     "metadata": {},
     "output_type": "execute_result"
    }
   ],
   "source": [
    "sdic[\"2018-10-09\"]"
   ]
  },
  {
   "cell_type": "code",
   "execution_count": 106,
   "metadata": {},
   "outputs": [],
   "source": [
    "merged['duration'] = merged.apply (lambda row: sleepfun(row,\"duration\"), axis=1)\n",
    "merged['minsleep'] = merged.apply (lambda row: sleepfun(row,\"minsleep\"), axis=1)\n",
    "merged['timebed'] = merged.apply (lambda row: sleepfun(row,\"timebed\"), axis=1)"
   ]
  },
  {
   "cell_type": "code",
   "execution_count": 113,
   "metadata": {},
   "outputs": [
    {
     "data": {
      "text/plain": [
       "2108175    32040000.0\n",
       "2108176    32040000.0\n",
       "2108177    32040000.0\n",
       "2108178    32040000.0\n",
       "2108179    32040000.0\n",
       "2108180    32040000.0\n",
       "2435790    32040000.0\n",
       "2108181    32040000.0\n",
       "2108182    32040000.0\n",
       "2108183    32040000.0\n",
       "Name: duration, dtype: float64"
      ]
     },
     "execution_count": 113,
     "metadata": {},
     "output_type": "execute_result"
    }
   ],
   "source": [
    "merged.duration[3000:3010]"
   ]
  },
  {
   "cell_type": "code",
   "execution_count": 114,
   "metadata": {},
   "outputs": [
    {
     "data": {
      "text/html": [
       "<div>\n",
       "<style scoped>\n",
       "    .dataframe tbody tr th:only-of-type {\n",
       "        vertical-align: middle;\n",
       "    }\n",
       "\n",
       "    .dataframe tbody tr th {\n",
       "        vertical-align: top;\n",
       "    }\n",
       "\n",
       "    .dataframe thead th {\n",
       "        text-align: right;\n",
       "    }\n",
       "</style>\n",
       "<table border=\"1\" class=\"dataframe\">\n",
       "  <thead>\n",
       "    <tr style=\"text-align: right;\">\n",
       "      <th></th>\n",
       "      <th>dateTime</th>\n",
       "      <th>bpm</th>\n",
       "      <th>confidence</th>\n",
       "      <th>steps</th>\n",
       "      <th>calories</th>\n",
       "      <th>dateOfSleep</th>\n",
       "      <th>duration</th>\n",
       "      <th>minsleep</th>\n",
       "      <th>timebed</th>\n",
       "    </tr>\n",
       "  </thead>\n",
       "  <tbody>\n",
       "    <tr>\n",
       "      <th>2108184</th>\n",
       "      <td>2018-10-09 00:24:22</td>\n",
       "      <td>79.0</td>\n",
       "      <td>2.0</td>\n",
       "      <td>NaN</td>\n",
       "      <td>NaN</td>\n",
       "      <td>2018-10-09 00:24:22</td>\n",
       "      <td>32040000.0</td>\n",
       "      <td>459.0</td>\n",
       "      <td>534.0</td>\n",
       "    </tr>\n",
       "    <tr>\n",
       "      <th>2108185</th>\n",
       "      <td>2018-10-09 00:24:32</td>\n",
       "      <td>80.0</td>\n",
       "      <td>2.0</td>\n",
       "      <td>NaN</td>\n",
       "      <td>NaN</td>\n",
       "      <td>2018-10-09 00:24:32</td>\n",
       "      <td>32040000.0</td>\n",
       "      <td>459.0</td>\n",
       "      <td>534.0</td>\n",
       "    </tr>\n",
       "    <tr>\n",
       "      <th>2108186</th>\n",
       "      <td>2018-10-09 00:24:37</td>\n",
       "      <td>83.0</td>\n",
       "      <td>3.0</td>\n",
       "      <td>NaN</td>\n",
       "      <td>NaN</td>\n",
       "      <td>2018-10-09 00:24:37</td>\n",
       "      <td>32040000.0</td>\n",
       "      <td>459.0</td>\n",
       "      <td>534.0</td>\n",
       "    </tr>\n",
       "    <tr>\n",
       "      <th>2108187</th>\n",
       "      <td>2018-10-09 00:24:42</td>\n",
       "      <td>82.0</td>\n",
       "      <td>3.0</td>\n",
       "      <td>NaN</td>\n",
       "      <td>NaN</td>\n",
       "      <td>2018-10-09 00:24:42</td>\n",
       "      <td>32040000.0</td>\n",
       "      <td>459.0</td>\n",
       "      <td>534.0</td>\n",
       "    </tr>\n",
       "    <tr>\n",
       "      <th>2108188</th>\n",
       "      <td>2018-10-09 00:24:47</td>\n",
       "      <td>78.0</td>\n",
       "      <td>3.0</td>\n",
       "      <td>NaN</td>\n",
       "      <td>NaN</td>\n",
       "      <td>2018-10-09 00:24:47</td>\n",
       "      <td>32040000.0</td>\n",
       "      <td>459.0</td>\n",
       "      <td>534.0</td>\n",
       "    </tr>\n",
       "    <tr>\n",
       "      <th>2108189</th>\n",
       "      <td>2018-10-09 00:24:57</td>\n",
       "      <td>79.0</td>\n",
       "      <td>2.0</td>\n",
       "      <td>NaN</td>\n",
       "      <td>NaN</td>\n",
       "      <td>2018-10-09 00:24:57</td>\n",
       "      <td>32040000.0</td>\n",
       "      <td>459.0</td>\n",
       "      <td>534.0</td>\n",
       "    </tr>\n",
       "    <tr>\n",
       "      <th>2435791</th>\n",
       "      <td>2018-10-09 00:25:00</td>\n",
       "      <td>NaN</td>\n",
       "      <td>NaN</td>\n",
       "      <td>NaN</td>\n",
       "      <td>3.33</td>\n",
       "      <td>2018-10-09 00:25:00</td>\n",
       "      <td>32040000.0</td>\n",
       "      <td>459.0</td>\n",
       "      <td>534.0</td>\n",
       "    </tr>\n",
       "    <tr>\n",
       "      <th>2108190</th>\n",
       "      <td>2018-10-09 00:25:02</td>\n",
       "      <td>81.0</td>\n",
       "      <td>3.0</td>\n",
       "      <td>NaN</td>\n",
       "      <td>NaN</td>\n",
       "      <td>2018-10-09 00:25:02</td>\n",
       "      <td>32040000.0</td>\n",
       "      <td>459.0</td>\n",
       "      <td>534.0</td>\n",
       "    </tr>\n",
       "    <tr>\n",
       "      <th>2108191</th>\n",
       "      <td>2018-10-09 00:25:07</td>\n",
       "      <td>82.0</td>\n",
       "      <td>2.0</td>\n",
       "      <td>NaN</td>\n",
       "      <td>NaN</td>\n",
       "      <td>2018-10-09 00:25:07</td>\n",
       "      <td>32040000.0</td>\n",
       "      <td>459.0</td>\n",
       "      <td>534.0</td>\n",
       "    </tr>\n",
       "    <tr>\n",
       "      <th>2108192</th>\n",
       "      <td>2018-10-09 00:25:12</td>\n",
       "      <td>83.0</td>\n",
       "      <td>3.0</td>\n",
       "      <td>NaN</td>\n",
       "      <td>NaN</td>\n",
       "      <td>2018-10-09 00:25:12</td>\n",
       "      <td>32040000.0</td>\n",
       "      <td>459.0</td>\n",
       "      <td>534.0</td>\n",
       "    </tr>\n",
       "  </tbody>\n",
       "</table>\n",
       "</div>"
      ],
      "text/plain": [
       "                   dateTime   bpm  confidence  steps  calories  \\\n",
       "2108184 2018-10-09 00:24:22  79.0         2.0    NaN       NaN   \n",
       "2108185 2018-10-09 00:24:32  80.0         2.0    NaN       NaN   \n",
       "2108186 2018-10-09 00:24:37  83.0         3.0    NaN       NaN   \n",
       "2108187 2018-10-09 00:24:42  82.0         3.0    NaN       NaN   \n",
       "2108188 2018-10-09 00:24:47  78.0         3.0    NaN       NaN   \n",
       "2108189 2018-10-09 00:24:57  79.0         2.0    NaN       NaN   \n",
       "2435791 2018-10-09 00:25:00   NaN         NaN    NaN      3.33   \n",
       "2108190 2018-10-09 00:25:02  81.0         3.0    NaN       NaN   \n",
       "2108191 2018-10-09 00:25:07  82.0         2.0    NaN       NaN   \n",
       "2108192 2018-10-09 00:25:12  83.0         3.0    NaN       NaN   \n",
       "\n",
       "                dateOfSleep    duration  minsleep  timebed  \n",
       "2108184 2018-10-09 00:24:22  32040000.0     459.0    534.0  \n",
       "2108185 2018-10-09 00:24:32  32040000.0     459.0    534.0  \n",
       "2108186 2018-10-09 00:24:37  32040000.0     459.0    534.0  \n",
       "2108187 2018-10-09 00:24:42  32040000.0     459.0    534.0  \n",
       "2108188 2018-10-09 00:24:47  32040000.0     459.0    534.0  \n",
       "2108189 2018-10-09 00:24:57  32040000.0     459.0    534.0  \n",
       "2435791 2018-10-09 00:25:00  32040000.0     459.0    534.0  \n",
       "2108190 2018-10-09 00:25:02  32040000.0     459.0    534.0  \n",
       "2108191 2018-10-09 00:25:07  32040000.0     459.0    534.0  \n",
       "2108192 2018-10-09 00:25:12  32040000.0     459.0    534.0  "
      ]
     },
     "execution_count": 114,
     "metadata": {},
     "output_type": "execute_result"
    }
   ],
   "source": [
    "#Skip the first values where bpm isn't registered.\n",
    "merged = merged[3010:]\n",
    "merged[:10]"
   ]
  },
  {
   "cell_type": "code",
   "execution_count": 115,
   "metadata": {},
   "outputs": [
    {
     "name": "stderr",
     "output_type": "stream",
     "text": [
      "/home/ashleygw/.local/lib/python3.6/site-packages/pandas/core/generic.py:5096: SettingWithCopyWarning: \n",
      "A value is trying to be set on a copy of a slice from a DataFrame.\n",
      "Try using .loc[row_indexer,col_indexer] = value instead\n",
      "\n",
      "See the caveats in the documentation: http://pandas.pydata.org/pandas-docs/stable/indexing.html#indexing-view-versus-copy\n",
      "  self[name] = value\n"
     ]
    }
   ],
   "source": [
    "#Fill nan values\n",
    "#There is a much better way to interpolate these values, this gives result I was looking for though\n",
    "merged.bpm = merged.bpm.interpolate(\"linear\",limit=20)\n",
    "merged.bpm = merged.bpm.interpolate(\"linear\",limit=100)\n",
    "merged.bpm = merged.bpm.interpolate(\"linear\",limit=300)"
   ]
  },
  {
   "cell_type": "code",
   "execution_count": 116,
   "metadata": {},
   "outputs": [],
   "source": [
    "merged.steps = merged.steps.interpolate(\"linear\",limit=20)\n",
    "merged.steps = merged.steps.interpolate(\"linear\",limit=100)\n",
    "merged.steps = merged.steps.interpolate(\"linear\",limit=1000)"
   ]
  },
  {
   "cell_type": "code",
   "execution_count": 117,
   "metadata": {},
   "outputs": [],
   "source": [
    "merged.calories = merged.calories.interpolate(\"linear\",limit=2000)\n",
    "merged.calories = merged.calories.interpolate(\"linear\",limit=10000)"
   ]
  },
  {
   "cell_type": "code",
   "execution_count": 118,
   "metadata": {},
   "outputs": [],
   "source": [
    "merged.confidence = merged.confidence.interpolate(\"linear\",limit=20)\n",
    "merged.confidence = merged.confidence.interpolate(\"linear\",limit=200)\n",
    "merged.confidence = merged.confidence.interpolate(\"linear\",limit=1000)"
   ]
  },
  {
   "cell_type": "code",
   "execution_count": 119,
   "metadata": {
    "scrolled": true
   },
   "outputs": [
    {
     "name": "stderr",
     "output_type": "stream",
     "text": [
      "/opt/anaconda3/lib/python3.6/site-packages/ipykernel_launcher.py:2: SettingWithCopyWarning: \n",
      "A value is trying to be set on a copy of a slice from a DataFrame.\n",
      "Try using .loc[row_indexer,col_indexer] = value instead\n",
      "\n",
      "See the caveats in the documentation: http://pandas.pydata.org/pandas-docs/stable/indexing.html#indexing-view-versus-copy\n",
      "  \n",
      "/opt/anaconda3/lib/python3.6/site-packages/ipykernel_launcher.py:3: SettingWithCopyWarning: \n",
      "A value is trying to be set on a copy of a slice from a DataFrame.\n",
      "Try using .loc[row_indexer,col_indexer] = value instead\n",
      "\n",
      "See the caveats in the documentation: http://pandas.pydata.org/pandas-docs/stable/indexing.html#indexing-view-versus-copy\n",
      "  This is separate from the ipykernel package so we can avoid doing imports until\n"
     ]
    }
   ],
   "source": [
    "#Adding new feature of the days and months of the week\n",
    "merged[\"weekday\"] = pd.to_datetime(merged['dateTime']).dt.weekday_name\n",
    "merged[\"month\"] = pd.to_datetime(merged['dateTime']).dt.month"
   ]
  },
  {
   "cell_type": "code",
   "execution_count": 120,
   "metadata": {
    "scrolled": true
   },
   "outputs": [
    {
     "data": {
      "text/html": [
       "<div>\n",
       "<style scoped>\n",
       "    .dataframe tbody tr th:only-of-type {\n",
       "        vertical-align: middle;\n",
       "    }\n",
       "\n",
       "    .dataframe tbody tr th {\n",
       "        vertical-align: top;\n",
       "    }\n",
       "\n",
       "    .dataframe thead th {\n",
       "        text-align: right;\n",
       "    }\n",
       "</style>\n",
       "<table border=\"1\" class=\"dataframe\">\n",
       "  <thead>\n",
       "    <tr style=\"text-align: right;\">\n",
       "      <th></th>\n",
       "      <th>dateTime</th>\n",
       "      <th>bpm</th>\n",
       "      <th>confidence</th>\n",
       "      <th>steps</th>\n",
       "      <th>calories</th>\n",
       "      <th>dateOfSleep</th>\n",
       "      <th>duration</th>\n",
       "      <th>minsleep</th>\n",
       "      <th>timebed</th>\n",
       "      <th>weekday</th>\n",
       "      <th>month</th>\n",
       "    </tr>\n",
       "  </thead>\n",
       "  <tbody>\n",
       "    <tr>\n",
       "      <th>2108184</th>\n",
       "      <td>2018-10-09 00:24:22</td>\n",
       "      <td>79.0</td>\n",
       "      <td>2.0</td>\n",
       "      <td>NaN</td>\n",
       "      <td>NaN</td>\n",
       "      <td>2018-10-09 00:24:22</td>\n",
       "      <td>32040000.0</td>\n",
       "      <td>459.0</td>\n",
       "      <td>534.0</td>\n",
       "      <td>Tuesday</td>\n",
       "      <td>10</td>\n",
       "    </tr>\n",
       "    <tr>\n",
       "      <th>2108185</th>\n",
       "      <td>2018-10-09 00:24:32</td>\n",
       "      <td>80.0</td>\n",
       "      <td>2.0</td>\n",
       "      <td>NaN</td>\n",
       "      <td>NaN</td>\n",
       "      <td>2018-10-09 00:24:32</td>\n",
       "      <td>32040000.0</td>\n",
       "      <td>459.0</td>\n",
       "      <td>534.0</td>\n",
       "      <td>Tuesday</td>\n",
       "      <td>10</td>\n",
       "    </tr>\n",
       "    <tr>\n",
       "      <th>2108186</th>\n",
       "      <td>2018-10-09 00:24:37</td>\n",
       "      <td>83.0</td>\n",
       "      <td>3.0</td>\n",
       "      <td>NaN</td>\n",
       "      <td>NaN</td>\n",
       "      <td>2018-10-09 00:24:37</td>\n",
       "      <td>32040000.0</td>\n",
       "      <td>459.0</td>\n",
       "      <td>534.0</td>\n",
       "      <td>Tuesday</td>\n",
       "      <td>10</td>\n",
       "    </tr>\n",
       "    <tr>\n",
       "      <th>2108187</th>\n",
       "      <td>2018-10-09 00:24:42</td>\n",
       "      <td>82.0</td>\n",
       "      <td>3.0</td>\n",
       "      <td>NaN</td>\n",
       "      <td>NaN</td>\n",
       "      <td>2018-10-09 00:24:42</td>\n",
       "      <td>32040000.0</td>\n",
       "      <td>459.0</td>\n",
       "      <td>534.0</td>\n",
       "      <td>Tuesday</td>\n",
       "      <td>10</td>\n",
       "    </tr>\n",
       "    <tr>\n",
       "      <th>2108188</th>\n",
       "      <td>2018-10-09 00:24:47</td>\n",
       "      <td>78.0</td>\n",
       "      <td>3.0</td>\n",
       "      <td>NaN</td>\n",
       "      <td>NaN</td>\n",
       "      <td>2018-10-09 00:24:47</td>\n",
       "      <td>32040000.0</td>\n",
       "      <td>459.0</td>\n",
       "      <td>534.0</td>\n",
       "      <td>Tuesday</td>\n",
       "      <td>10</td>\n",
       "    </tr>\n",
       "    <tr>\n",
       "      <th>2108189</th>\n",
       "      <td>2018-10-09 00:24:57</td>\n",
       "      <td>79.0</td>\n",
       "      <td>2.0</td>\n",
       "      <td>NaN</td>\n",
       "      <td>NaN</td>\n",
       "      <td>2018-10-09 00:24:57</td>\n",
       "      <td>32040000.0</td>\n",
       "      <td>459.0</td>\n",
       "      <td>534.0</td>\n",
       "      <td>Tuesday</td>\n",
       "      <td>10</td>\n",
       "    </tr>\n",
       "    <tr>\n",
       "      <th>2435791</th>\n",
       "      <td>2018-10-09 00:25:00</td>\n",
       "      <td>80.0</td>\n",
       "      <td>2.5</td>\n",
       "      <td>NaN</td>\n",
       "      <td>3.330</td>\n",
       "      <td>2018-10-09 00:25:00</td>\n",
       "      <td>32040000.0</td>\n",
       "      <td>459.0</td>\n",
       "      <td>534.0</td>\n",
       "      <td>Tuesday</td>\n",
       "      <td>10</td>\n",
       "    </tr>\n",
       "    <tr>\n",
       "      <th>2108190</th>\n",
       "      <td>2018-10-09 00:25:02</td>\n",
       "      <td>81.0</td>\n",
       "      <td>3.0</td>\n",
       "      <td>NaN</td>\n",
       "      <td>3.145</td>\n",
       "      <td>2018-10-09 00:25:02</td>\n",
       "      <td>32040000.0</td>\n",
       "      <td>459.0</td>\n",
       "      <td>534.0</td>\n",
       "      <td>Tuesday</td>\n",
       "      <td>10</td>\n",
       "    </tr>\n",
       "    <tr>\n",
       "      <th>2108191</th>\n",
       "      <td>2018-10-09 00:25:07</td>\n",
       "      <td>82.0</td>\n",
       "      <td>2.0</td>\n",
       "      <td>NaN</td>\n",
       "      <td>2.960</td>\n",
       "      <td>2018-10-09 00:25:07</td>\n",
       "      <td>32040000.0</td>\n",
       "      <td>459.0</td>\n",
       "      <td>534.0</td>\n",
       "      <td>Tuesday</td>\n",
       "      <td>10</td>\n",
       "    </tr>\n",
       "    <tr>\n",
       "      <th>2108192</th>\n",
       "      <td>2018-10-09 00:25:12</td>\n",
       "      <td>83.0</td>\n",
       "      <td>3.0</td>\n",
       "      <td>NaN</td>\n",
       "      <td>2.775</td>\n",
       "      <td>2018-10-09 00:25:12</td>\n",
       "      <td>32040000.0</td>\n",
       "      <td>459.0</td>\n",
       "      <td>534.0</td>\n",
       "      <td>Tuesday</td>\n",
       "      <td>10</td>\n",
       "    </tr>\n",
       "  </tbody>\n",
       "</table>\n",
       "</div>"
      ],
      "text/plain": [
       "                   dateTime   bpm  confidence  steps  calories  \\\n",
       "2108184 2018-10-09 00:24:22  79.0         2.0    NaN       NaN   \n",
       "2108185 2018-10-09 00:24:32  80.0         2.0    NaN       NaN   \n",
       "2108186 2018-10-09 00:24:37  83.0         3.0    NaN       NaN   \n",
       "2108187 2018-10-09 00:24:42  82.0         3.0    NaN       NaN   \n",
       "2108188 2018-10-09 00:24:47  78.0         3.0    NaN       NaN   \n",
       "2108189 2018-10-09 00:24:57  79.0         2.0    NaN       NaN   \n",
       "2435791 2018-10-09 00:25:00  80.0         2.5    NaN     3.330   \n",
       "2108190 2018-10-09 00:25:02  81.0         3.0    NaN     3.145   \n",
       "2108191 2018-10-09 00:25:07  82.0         2.0    NaN     2.960   \n",
       "2108192 2018-10-09 00:25:12  83.0         3.0    NaN     2.775   \n",
       "\n",
       "                dateOfSleep    duration  minsleep  timebed  weekday  month  \n",
       "2108184 2018-10-09 00:24:22  32040000.0     459.0    534.0  Tuesday     10  \n",
       "2108185 2018-10-09 00:24:32  32040000.0     459.0    534.0  Tuesday     10  \n",
       "2108186 2018-10-09 00:24:37  32040000.0     459.0    534.0  Tuesday     10  \n",
       "2108187 2018-10-09 00:24:42  32040000.0     459.0    534.0  Tuesday     10  \n",
       "2108188 2018-10-09 00:24:47  32040000.0     459.0    534.0  Tuesday     10  \n",
       "2108189 2018-10-09 00:24:57  32040000.0     459.0    534.0  Tuesday     10  \n",
       "2435791 2018-10-09 00:25:00  32040000.0     459.0    534.0  Tuesday     10  \n",
       "2108190 2018-10-09 00:25:02  32040000.0     459.0    534.0  Tuesday     10  \n",
       "2108191 2018-10-09 00:25:07  32040000.0     459.0    534.0  Tuesday     10  \n",
       "2108192 2018-10-09 00:25:12  32040000.0     459.0    534.0  Tuesday     10  "
      ]
     },
     "execution_count": 120,
     "metadata": {},
     "output_type": "execute_result"
    }
   ],
   "source": [
    "merged[:10]"
   ]
  },
  {
   "cell_type": "code",
   "execution_count": 121,
   "metadata": {},
   "outputs": [],
   "source": [
    "#Removes remaining NaN entries by replacing with median value. \n",
    "merged = merged.fillna(merged.median())"
   ]
  },
  {
   "cell_type": "code",
   "execution_count": null,
   "metadata": {},
   "outputs": [],
   "source": [
    "#Initial visualizations showed weekdays were not helpful.\n",
    "#Dropping them\n",
    "merged.loc[merged['weekday'] == \"Monday\", 'bpm'].describe()\n",
    "merged.loc[merged['weekday'] == \"Tuesday\", 'bpm'].describe()\n",
    "merged.loc[merged['weekday'] == \"Wednesday\", 'bpm'].describe()\n",
    "merged.loc[merged['weekday'] == \"Thursday\", 'bpm'].describe()\n",
    "merged.loc[merged['weekday'] == \"Friday\", 'bpm'].describe()\n",
    "merged.loc[merged['weekday'] == \"Saturday\", 'bpm'].describe()\n",
    "merged.loc[merged['weekday'] == \"Sunday\", 'bpm'].describe()"
   ]
  },
  {
   "cell_type": "code",
   "execution_count": 52,
   "metadata": {},
   "outputs": [],
   "source": [
    "def timeFunc(row):\n",
    "    time = row.dateTime - \n",
    "    return time"
   ]
  },
  {
   "cell_type": "code",
   "execution_count": 53,
   "metadata": {},
   "outputs": [],
   "source": [
    "merged['dateTime'] = merged.apply (lambda row: timeFunc(row), axis=1)"
   ]
  },
  {
   "cell_type": "code",
   "execution_count": 54,
   "metadata": {},
   "outputs": [
    {
     "data": {
      "text/plain": [
       "8"
      ]
     },
     "execution_count": 54,
     "metadata": {},
     "output_type": "execute_result"
    }
   ],
   "source": [
    "merged.dateTime[0]"
   ]
  },
  {
   "cell_type": "code",
   "execution_count": 48,
   "metadata": {},
   "outputs": [],
   "source": [
    "#Save the database so I don't have to do this every time\n",
    "pickle.dump(merged, open(\"save.p\", \"wb\" ) )"
   ]
  },
  {
   "cell_type": "code",
   "execution_count": 2,
   "metadata": {},
   "outputs": [],
   "source": [
    "#Reloading the DB\n",
    "merged = pickle.load( open(\"save.p\", \"rb\" ) )"
   ]
  },
  {
   "cell_type": "code",
   "execution_count": 4,
   "metadata": {},
   "outputs": [
    {
     "data": {
      "text/plain": [
       "<matplotlib.collections.PathCollection at 0x7f373dbf9be0>"
      ]
     },
     "execution_count": 4,
     "metadata": {},
     "output_type": "execute_result"
    },
    {
     "data": {
      "image/png": "[encoded data removed]",
      "text/plain": [
       "<Figure size 432x288 with 1 Axes>"
      ]
     },
     "metadata": {
      "needs_background": "light"
     },
     "output_type": "display_data"
    }
   ],
   "source": [
    "#Plotting shows a reasonable correlation with the time of day\n",
    "plt.scatter(merged[\"dateTime\"],merged[\"bpm\"])"
   ]
  },
  {
   "cell_type": "code",
   "execution_count": 6,
   "metadata": {
    "scrolled": false
   },
   "outputs": [
    {
     "data": {
      "text/plain": [
       "[<matplotlib.lines.Line2D at 0x7fe8b90455c0>]"
      ]
     },
     "execution_count": 6,
     "metadata": {},
     "output_type": "execute_result"
    },
    {
     "data": {
      "image/png": "[encoded data removed]",
      "text/plain": [
       "<Figure size 432x288 with 1 Axes>"
      ]
     },
     "metadata": {
      "needs_background": "light"
     },
     "output_type": "display_data"
    }
   ],
   "source": [
    "#We can zoom in on a few days though, and get an idea of what\n",
    "#a typical few days looks like. \n",
    "plt.plot(merged[\"dateTime\"][100:300],merged[\"bpm\"][100:300])"
   ]
  },
  {
   "cell_type": "code",
   "execution_count": 7,
   "metadata": {},
   "outputs": [
    {
     "data": {
      "text/plain": [
       "[<matplotlib.lines.Line2D at 0x7fe8b90107f0>]"
      ]
     },
     "execution_count": 7,
     "metadata": {},
     "output_type": "execute_result"
    },
    {
     "data": {
      "image/png": "[encoded data removed]",
      "text/plain": [
       "<Figure size 432x288 with 1 Axes>"
      ]
     },
     "metadata": {
      "needs_background": "light"
     },
     "output_type": "display_data"
    }
   ],
   "source": [
    "#Lets plot the calories and steps too\n",
    "plt.plot(merged[\"dateTime\"][1000:3000],merged[\"steps\"][1000:3000])"
   ]
  },
  {
   "cell_type": "code",
   "execution_count": 8,
   "metadata": {
    "scrolled": true
   },
   "outputs": [
    {
     "data": {
      "text/plain": [
       "[<matplotlib.lines.Line2D at 0x7fe8b8f68080>]"
      ]
     },
     "execution_count": 8,
     "metadata": {},
     "output_type": "execute_result"
    },
    {
     "data": {
      "image/png": "[encoded data removed]",
      "text/plain": [
       "<Figure size 432x288 with 1 Axes>"
      ]
     },
     "metadata": {
      "needs_background": "light"
     },
     "output_type": "display_data"
    }
   ],
   "source": [
    "plt.plot(merged[\"dateTime\"][1000:9000],merged[\"calories\"][1000:9000])"
   ]
  },
  {
   "cell_type": "code",
   "execution_count": 5,
   "metadata": {
    "scrolled": true
   },
   "outputs": [
    {
     "data": {
      "text/html": [
       "<style  type=\"text/css\" >\n",
       "    #T_72d4a210_7073_11e9_9a6c_afef06ef83cerow0_col0 {\n",
       "            background-color:  #023858;\n",
       "            color:  #f1f1f1;\n",
       "        }    #T_72d4a210_7073_11e9_9a6c_afef06ef83cerow0_col1 {\n",
       "            background-color:  #fff7fb;\n",
       "            color:  #000000;\n",
       "        }    #T_72d4a210_7073_11e9_9a6c_afef06ef83cerow0_col2 {\n",
       "            background-color:  #4897c4;\n",
       "            color:  #000000;\n",
       "        }    #T_72d4a210_7073_11e9_9a6c_afef06ef83cerow0_col3 {\n",
       "            background-color:  #fff7fb;\n",
       "            color:  #000000;\n",
       "        }    #T_72d4a210_7073_11e9_9a6c_afef06ef83cerow0_col4 {\n",
       "            background-color:  #fcf4fa;\n",
       "            color:  #000000;\n",
       "        }    #T_72d4a210_7073_11e9_9a6c_afef06ef83cerow0_col5 {\n",
       "            background-color:  #fcf4fa;\n",
       "            color:  #000000;\n",
       "        }    #T_72d4a210_7073_11e9_9a6c_afef06ef83cerow0_col6 {\n",
       "            background-color:  #fcf4fa;\n",
       "            color:  #000000;\n",
       "        }    #T_72d4a210_7073_11e9_9a6c_afef06ef83cerow0_col7 {\n",
       "            background-color:  #fff7fb;\n",
       "            color:  #000000;\n",
       "        }    #T_72d4a210_7073_11e9_9a6c_afef06ef83cerow1_col0 {\n",
       "            background-color:  #fff7fb;\n",
       "            color:  #000000;\n",
       "        }    #T_72d4a210_7073_11e9_9a6c_afef06ef83cerow1_col1 {\n",
       "            background-color:  #023858;\n",
       "            color:  #f1f1f1;\n",
       "        }    #T_72d4a210_7073_11e9_9a6c_afef06ef83cerow1_col2 {\n",
       "            background-color:  #fff7fb;\n",
       "            color:  #000000;\n",
       "        }    #T_72d4a210_7073_11e9_9a6c_afef06ef83cerow1_col3 {\n",
       "            background-color:  #e3e0ee;\n",
       "            color:  #000000;\n",
       "        }    #T_72d4a210_7073_11e9_9a6c_afef06ef83cerow1_col4 {\n",
       "            background-color:  #f9f2f8;\n",
       "            color:  #000000;\n",
       "        }    #T_72d4a210_7073_11e9_9a6c_afef06ef83cerow1_col5 {\n",
       "            background-color:  #f9f2f8;\n",
       "            color:  #000000;\n",
       "        }    #T_72d4a210_7073_11e9_9a6c_afef06ef83cerow1_col6 {\n",
       "            background-color:  #f9f2f8;\n",
       "            color:  #000000;\n",
       "        }    #T_72d4a210_7073_11e9_9a6c_afef06ef83cerow1_col7 {\n",
       "            background-color:  #f4eef6;\n",
       "            color:  #000000;\n",
       "        }    #T_72d4a210_7073_11e9_9a6c_afef06ef83cerow2_col0 {\n",
       "            background-color:  #2f8bbe;\n",
       "            color:  #000000;\n",
       "        }    #T_72d4a210_7073_11e9_9a6c_afef06ef83cerow2_col1 {\n",
       "            background-color:  #eae6f1;\n",
       "            color:  #000000;\n",
       "        }    #T_72d4a210_7073_11e9_9a6c_afef06ef83cerow2_col2 {\n",
       "            background-color:  #023858;\n",
       "            color:  #f1f1f1;\n",
       "        }    #T_72d4a210_7073_11e9_9a6c_afef06ef83cerow2_col3 {\n",
       "            background-color:  #f7f0f7;\n",
       "            color:  #000000;\n",
       "        }    #T_72d4a210_7073_11e9_9a6c_afef06ef83cerow2_col4 {\n",
       "            background-color:  #fff7fb;\n",
       "            color:  #000000;\n",
       "        }    #T_72d4a210_7073_11e9_9a6c_afef06ef83cerow2_col5 {\n",
       "            background-color:  #fff7fb;\n",
       "            color:  #000000;\n",
       "        }    #T_72d4a210_7073_11e9_9a6c_afef06ef83cerow2_col6 {\n",
       "            background-color:  #fff7fb;\n",
       "            color:  #000000;\n",
       "        }    #T_72d4a210_7073_11e9_9a6c_afef06ef83cerow2_col7 {\n",
       "            background-color:  #fdf5fa;\n",
       "            color:  #000000;\n",
       "        }    #T_72d4a210_7073_11e9_9a6c_afef06ef83cerow3_col0 {\n",
       "            background-color:  #c6cce3;\n",
       "            color:  #000000;\n",
       "        }    #T_72d4a210_7073_11e9_9a6c_afef06ef83cerow3_col1 {\n",
       "            background-color:  #9ebad9;\n",
       "            color:  #000000;\n",
       "        }    #T_72d4a210_7073_11e9_9a6c_afef06ef83cerow3_col2 {\n",
       "            background-color:  #d9d8ea;\n",
       "            color:  #000000;\n",
       "        }    #T_72d4a210_7073_11e9_9a6c_afef06ef83cerow3_col3 {\n",
       "            background-color:  #023858;\n",
       "            color:  #f1f1f1;\n",
       "        }    #T_72d4a210_7073_11e9_9a6c_afef06ef83cerow3_col4 {\n",
       "            background-color:  #fdf5fa;\n",
       "            color:  #000000;\n",
       "        }    #T_72d4a210_7073_11e9_9a6c_afef06ef83cerow3_col5 {\n",
       "            background-color:  #fcf4fa;\n",
       "            color:  #000000;\n",
       "        }    #T_72d4a210_7073_11e9_9a6c_afef06ef83cerow3_col6 {\n",
       "            background-color:  #fdf5fa;\n",
       "            color:  #000000;\n",
       "        }    #T_72d4a210_7073_11e9_9a6c_afef06ef83cerow3_col7 {\n",
       "            background-color:  #faf3f9;\n",
       "            color:  #000000;\n",
       "        }    #T_72d4a210_7073_11e9_9a6c_afef06ef83cerow4_col0 {\n",
       "            background-color:  #b3c3de;\n",
       "            color:  #000000;\n",
       "        }    #T_72d4a210_7073_11e9_9a6c_afef06ef83cerow4_col1 {\n",
       "            background-color:  #adc1dd;\n",
       "            color:  #000000;\n",
       "        }    #T_72d4a210_7073_11e9_9a6c_afef06ef83cerow4_col2 {\n",
       "            background-color:  #d8d7e9;\n",
       "            color:  #000000;\n",
       "        }    #T_72d4a210_7073_11e9_9a6c_afef06ef83cerow4_col3 {\n",
       "            background-color:  #f3edf5;\n",
       "            color:  #000000;\n",
       "        }    #T_72d4a210_7073_11e9_9a6c_afef06ef83cerow4_col4 {\n",
       "            background-color:  #023858;\n",
       "            color:  #f1f1f1;\n",
       "        }    #T_72d4a210_7073_11e9_9a6c_afef06ef83cerow4_col5 {\n",
       "            background-color:  #023d60;\n",
       "            color:  #f1f1f1;\n",
       "        }    #T_72d4a210_7073_11e9_9a6c_afef06ef83cerow4_col6 {\n",
       "            background-color:  #023858;\n",
       "            color:  #f1f1f1;\n",
       "        }    #T_72d4a210_7073_11e9_9a6c_afef06ef83cerow4_col7 {\n",
       "            background-color:  #f8f1f8;\n",
       "            color:  #000000;\n",
       "        }    #T_72d4a210_7073_11e9_9a6c_afef06ef83cerow5_col0 {\n",
       "            background-color:  #b3c3de;\n",
       "            color:  #000000;\n",
       "        }    #T_72d4a210_7073_11e9_9a6c_afef06ef83cerow5_col1 {\n",
       "            background-color:  #afc1dd;\n",
       "            color:  #000000;\n",
       "        }    #T_72d4a210_7073_11e9_9a6c_afef06ef83cerow5_col2 {\n",
       "            background-color:  #d8d7e9;\n",
       "            color:  #000000;\n",
       "        }    #T_72d4a210_7073_11e9_9a6c_afef06ef83cerow5_col3 {\n",
       "            background-color:  #f3edf5;\n",
       "            color:  #000000;\n",
       "        }    #T_72d4a210_7073_11e9_9a6c_afef06ef83cerow5_col4 {\n",
       "            background-color:  #023d60;\n",
       "            color:  #f1f1f1;\n",
       "        }    #T_72d4a210_7073_11e9_9a6c_afef06ef83cerow5_col5 {\n",
       "            background-color:  #023858;\n",
       "            color:  #f1f1f1;\n",
       "        }    #T_72d4a210_7073_11e9_9a6c_afef06ef83cerow5_col6 {\n",
       "            background-color:  #023d60;\n",
       "            color:  #f1f1f1;\n",
       "        }    #T_72d4a210_7073_11e9_9a6c_afef06ef83cerow5_col7 {\n",
       "            background-color:  #f7f0f7;\n",
       "            color:  #000000;\n",
       "        }    #T_72d4a210_7073_11e9_9a6c_afef06ef83cerow6_col0 {\n",
       "            background-color:  #b3c3de;\n",
       "            color:  #000000;\n",
       "        }    #T_72d4a210_7073_11e9_9a6c_afef06ef83cerow6_col1 {\n",
       "            background-color:  #adc1dd;\n",
       "            color:  #000000;\n",
       "        }    #T_72d4a210_7073_11e9_9a6c_afef06ef83cerow6_col2 {\n",
       "            background-color:  #d8d7e9;\n",
       "            color:  #000000;\n",
       "        }    #T_72d4a210_7073_11e9_9a6c_afef06ef83cerow6_col3 {\n",
       "            background-color:  #f3edf5;\n",
       "            color:  #000000;\n",
       "        }    #T_72d4a210_7073_11e9_9a6c_afef06ef83cerow6_col4 {\n",
       "            background-color:  #023858;\n",
       "            color:  #f1f1f1;\n",
       "        }    #T_72d4a210_7073_11e9_9a6c_afef06ef83cerow6_col5 {\n",
       "            background-color:  #023d60;\n",
       "            color:  #f1f1f1;\n",
       "        }    #T_72d4a210_7073_11e9_9a6c_afef06ef83cerow6_col6 {\n",
       "            background-color:  #023858;\n",
       "            color:  #f1f1f1;\n",
       "        }    #T_72d4a210_7073_11e9_9a6c_afef06ef83cerow6_col7 {\n",
       "            background-color:  #f8f1f8;\n",
       "            color:  #000000;\n",
       "        }    #T_72d4a210_7073_11e9_9a6c_afef06ef83cerow7_col0 {\n",
       "            background-color:  #b9c6e0;\n",
       "            color:  #000000;\n",
       "        }    #T_72d4a210_7073_11e9_9a6c_afef06ef83cerow7_col1 {\n",
       "            background-color:  #a8bedc;\n",
       "            color:  #000000;\n",
       "        }    #T_72d4a210_7073_11e9_9a6c_afef06ef83cerow7_col2 {\n",
       "            background-color:  #d7d6e9;\n",
       "            color:  #000000;\n",
       "        }    #T_72d4a210_7073_11e9_9a6c_afef06ef83cerow7_col3 {\n",
       "            background-color:  #f2ecf5;\n",
       "            color:  #000000;\n",
       "        }    #T_72d4a210_7073_11e9_9a6c_afef06ef83cerow7_col4 {\n",
       "            background-color:  #f9f2f8;\n",
       "            color:  #000000;\n",
       "        }    #T_72d4a210_7073_11e9_9a6c_afef06ef83cerow7_col5 {\n",
       "            background-color:  #f8f1f8;\n",
       "            color:  #000000;\n",
       "        }    #T_72d4a210_7073_11e9_9a6c_afef06ef83cerow7_col6 {\n",
       "            background-color:  #f9f2f8;\n",
       "            color:  #000000;\n",
       "        }    #T_72d4a210_7073_11e9_9a6c_afef06ef83cerow7_col7 {\n",
       "            background-color:  #023858;\n",
       "            color:  #f1f1f1;\n",
       "        }</style><table id=\"T_72d4a210_7073_11e9_9a6c_afef06ef83ce\" ><thead>    <tr>        <th class=\"blank level0\" ></th>        <th class=\"col_heading level0 col0\" >bpm</th>        <th class=\"col_heading level0 col1\" >confidence</th>        <th class=\"col_heading level0 col2\" >steps</th>        <th class=\"col_heading level0 col3\" >calories</th>        <th class=\"col_heading level0 col4\" >duration</th>        <th class=\"col_heading level0 col5\" >minsleep</th>        <th class=\"col_heading level0 col6\" >timebed</th>        <th class=\"col_heading level0 col7\" >month</th>    </tr></thead><tbody>\n",
       "                <tr>\n",
       "                        <th id=\"T_72d4a210_7073_11e9_9a6c_afef06ef83celevel0_row0\" class=\"row_heading level0 row0\" >bpm</th>\n",
       "                        <td id=\"T_72d4a210_7073_11e9_9a6c_afef06ef83cerow0_col0\" class=\"data row0 col0\" >1</td>\n",
       "                        <td id=\"T_72d4a210_7073_11e9_9a6c_afef06ef83cerow0_col1\" class=\"data row0 col1\" >-0.506108</td>\n",
       "                        <td id=\"T_72d4a210_7073_11e9_9a6c_afef06ef83cerow0_col2\" class=\"data row0 col2\" >0.462985</td>\n",
       "                        <td id=\"T_72d4a210_7073_11e9_9a6c_afef06ef83cerow0_col3\" class=\"data row0 col3\" >-0.0875123</td>\n",
       "                        <td id=\"T_72d4a210_7073_11e9_9a6c_afef06ef83cerow0_col4\" class=\"data row0 col4\" >0.000341358</td>\n",
       "                        <td id=\"T_72d4a210_7073_11e9_9a6c_afef06ef83cerow0_col5\" class=\"data row0 col5\" >0.000633391</td>\n",
       "                        <td id=\"T_72d4a210_7073_11e9_9a6c_afef06ef83cerow0_col6\" class=\"data row0 col6\" >0.000341358</td>\n",
       "                        <td id=\"T_72d4a210_7073_11e9_9a6c_afef06ef83cerow0_col7\" class=\"data row0 col7\" >-0.0270727</td>\n",
       "            </tr>\n",
       "            <tr>\n",
       "                        <th id=\"T_72d4a210_7073_11e9_9a6c_afef06ef83celevel0_row1\" class=\"row_heading level0 row1\" >confidence</th>\n",
       "                        <td id=\"T_72d4a210_7073_11e9_9a6c_afef06ef83cerow1_col0\" class=\"data row1 col0\" >-0.506108</td>\n",
       "                        <td id=\"T_72d4a210_7073_11e9_9a6c_afef06ef83cerow1_col1\" class=\"data row1 col1\" >1</td>\n",
       "                        <td id=\"T_72d4a210_7073_11e9_9a6c_afef06ef83cerow1_col2\" class=\"data row1 col2\" >-0.301741</td>\n",
       "                        <td id=\"T_72d4a210_7073_11e9_9a6c_afef06ef83cerow1_col3\" class=\"data row1 col3\" >0.0917094</td>\n",
       "                        <td id=\"T_72d4a210_7073_11e9_9a6c_afef06ef83cerow1_col4\" class=\"data row1 col4\" >0.0234748</td>\n",
       "                        <td id=\"T_72d4a210_7073_11e9_9a6c_afef06ef83cerow1_col5\" class=\"data row1 col5\" >0.0227166</td>\n",
       "                        <td id=\"T_72d4a210_7073_11e9_9a6c_afef06ef83cerow1_col6\" class=\"data row1 col6\" >0.0234748</td>\n",
       "                        <td id=\"T_72d4a210_7073_11e9_9a6c_afef06ef83cerow1_col7\" class=\"data row1 col7\" >0.0485523</td>\n",
       "            </tr>\n",
       "            <tr>\n",
       "                        <th id=\"T_72d4a210_7073_11e9_9a6c_afef06ef83celevel0_row2\" class=\"row_heading level0 row2\" >steps</th>\n",
       "                        <td id=\"T_72d4a210_7073_11e9_9a6c_afef06ef83cerow2_col0\" class=\"data row2 col0\" >0.462985</td>\n",
       "                        <td id=\"T_72d4a210_7073_11e9_9a6c_afef06ef83cerow2_col1\" class=\"data row2 col1\" >-0.301741</td>\n",
       "                        <td id=\"T_72d4a210_7073_11e9_9a6c_afef06ef83cerow2_col2\" class=\"data row2 col2\" >1</td>\n",
       "                        <td id=\"T_72d4a210_7073_11e9_9a6c_afef06ef83cerow2_col3\" class=\"data row2 col3\" >-0.0253081</td>\n",
       "                        <td id=\"T_72d4a210_7073_11e9_9a6c_afef06ef83cerow2_col4\" class=\"data row2 col4\" >-0.0197613</td>\n",
       "                        <td id=\"T_72d4a210_7073_11e9_9a6c_afef06ef83cerow2_col5\" class=\"data row2 col5\" >-0.0194892</td>\n",
       "                        <td id=\"T_72d4a210_7073_11e9_9a6c_afef06ef83cerow2_col6\" class=\"data row2 col6\" >-0.0197613</td>\n",
       "                        <td id=\"T_72d4a210_7073_11e9_9a6c_afef06ef83cerow2_col7\" class=\"data row2 col7\" >-0.013226</td>\n",
       "            </tr>\n",
       "            <tr>\n",
       "                        <th id=\"T_72d4a210_7073_11e9_9a6c_afef06ef83celevel0_row3\" class=\"row_heading level0 row3\" >calories</th>\n",
       "                        <td id=\"T_72d4a210_7073_11e9_9a6c_afef06ef83cerow3_col0\" class=\"data row3 col0\" >-0.0875123</td>\n",
       "                        <td id=\"T_72d4a210_7073_11e9_9a6c_afef06ef83cerow3_col1\" class=\"data row3 col1\" >0.0917094</td>\n",
       "                        <td id=\"T_72d4a210_7073_11e9_9a6c_afef06ef83cerow3_col2\" class=\"data row3 col2\" >-0.0253081</td>\n",
       "                        <td id=\"T_72d4a210_7073_11e9_9a6c_afef06ef83cerow3_col3\" class=\"data row3 col3\" >1</td>\n",
       "                        <td id=\"T_72d4a210_7073_11e9_9a6c_afef06ef83cerow3_col4\" class=\"data row3 col4\" >-0.00103667</td>\n",
       "                        <td id=\"T_72d4a210_7073_11e9_9a6c_afef06ef83cerow3_col5\" class=\"data row3 col5\" >0.000771562</td>\n",
       "                        <td id=\"T_72d4a210_7073_11e9_9a6c_afef06ef83cerow3_col6\" class=\"data row3 col6\" >-0.00103667</td>\n",
       "                        <td id=\"T_72d4a210_7073_11e9_9a6c_afef06ef83cerow3_col7\" class=\"data row3 col7\" >0.00677831</td>\n",
       "            </tr>\n",
       "            <tr>\n",
       "                        <th id=\"T_72d4a210_7073_11e9_9a6c_afef06ef83celevel0_row4\" class=\"row_heading level0 row4\" >duration</th>\n",
       "                        <td id=\"T_72d4a210_7073_11e9_9a6c_afef06ef83cerow4_col0\" class=\"data row4 col0\" >0.000341358</td>\n",
       "                        <td id=\"T_72d4a210_7073_11e9_9a6c_afef06ef83cerow4_col1\" class=\"data row4 col1\" >0.0234748</td>\n",
       "                        <td id=\"T_72d4a210_7073_11e9_9a6c_afef06ef83cerow4_col2\" class=\"data row4 col2\" >-0.0197613</td>\n",
       "                        <td id=\"T_72d4a210_7073_11e9_9a6c_afef06ef83cerow4_col3\" class=\"data row4 col3\" >-0.00103667</td>\n",
       "                        <td id=\"T_72d4a210_7073_11e9_9a6c_afef06ef83cerow4_col4\" class=\"data row4 col4\" >1</td>\n",
       "                        <td id=\"T_72d4a210_7073_11e9_9a6c_afef06ef83cerow4_col5\" class=\"data row4 col5\" >0.978584</td>\n",
       "                        <td id=\"T_72d4a210_7073_11e9_9a6c_afef06ef83cerow4_col6\" class=\"data row4 col6\" >1</td>\n",
       "                        <td id=\"T_72d4a210_7073_11e9_9a6c_afef06ef83cerow4_col7\" class=\"data row4 col7\" >0.0228563</td>\n",
       "            </tr>\n",
       "            <tr>\n",
       "                        <th id=\"T_72d4a210_7073_11e9_9a6c_afef06ef83celevel0_row5\" class=\"row_heading level0 row5\" >minsleep</th>\n",
       "                        <td id=\"T_72d4a210_7073_11e9_9a6c_afef06ef83cerow5_col0\" class=\"data row5 col0\" >0.000633391</td>\n",
       "                        <td id=\"T_72d4a210_7073_11e9_9a6c_afef06ef83cerow5_col1\" class=\"data row5 col1\" >0.0227166</td>\n",
       "                        <td id=\"T_72d4a210_7073_11e9_9a6c_afef06ef83cerow5_col2\" class=\"data row5 col2\" >-0.0194892</td>\n",
       "                        <td id=\"T_72d4a210_7073_11e9_9a6c_afef06ef83cerow5_col3\" class=\"data row5 col3\" >0.000771562</td>\n",
       "                        <td id=\"T_72d4a210_7073_11e9_9a6c_afef06ef83cerow5_col4\" class=\"data row5 col4\" >0.978584</td>\n",
       "                        <td id=\"T_72d4a210_7073_11e9_9a6c_afef06ef83cerow5_col5\" class=\"data row5 col5\" >1</td>\n",
       "                        <td id=\"T_72d4a210_7073_11e9_9a6c_afef06ef83cerow5_col6\" class=\"data row5 col6\" >0.978584</td>\n",
       "                        <td id=\"T_72d4a210_7073_11e9_9a6c_afef06ef83cerow5_col7\" class=\"data row5 col7\" >0.0299476</td>\n",
       "            </tr>\n",
       "            <tr>\n",
       "                        <th id=\"T_72d4a210_7073_11e9_9a6c_afef06ef83celevel0_row6\" class=\"row_heading level0 row6\" >timebed</th>\n",
       "                        <td id=\"T_72d4a210_7073_11e9_9a6c_afef06ef83cerow6_col0\" class=\"data row6 col0\" >0.000341358</td>\n",
       "                        <td id=\"T_72d4a210_7073_11e9_9a6c_afef06ef83cerow6_col1\" class=\"data row6 col1\" >0.0234748</td>\n",
       "                        <td id=\"T_72d4a210_7073_11e9_9a6c_afef06ef83cerow6_col2\" class=\"data row6 col2\" >-0.0197613</td>\n",
       "                        <td id=\"T_72d4a210_7073_11e9_9a6c_afef06ef83cerow6_col3\" class=\"data row6 col3\" >-0.00103667</td>\n",
       "                        <td id=\"T_72d4a210_7073_11e9_9a6c_afef06ef83cerow6_col4\" class=\"data row6 col4\" >1</td>\n",
       "                        <td id=\"T_72d4a210_7073_11e9_9a6c_afef06ef83cerow6_col5\" class=\"data row6 col5\" >0.978584</td>\n",
       "                        <td id=\"T_72d4a210_7073_11e9_9a6c_afef06ef83cerow6_col6\" class=\"data row6 col6\" >1</td>\n",
       "                        <td id=\"T_72d4a210_7073_11e9_9a6c_afef06ef83cerow6_col7\" class=\"data row6 col7\" >0.0228563</td>\n",
       "            </tr>\n",
       "            <tr>\n",
       "                        <th id=\"T_72d4a210_7073_11e9_9a6c_afef06ef83celevel0_row7\" class=\"row_heading level0 row7\" >month</th>\n",
       "                        <td id=\"T_72d4a210_7073_11e9_9a6c_afef06ef83cerow7_col0\" class=\"data row7 col0\" >-0.0270727</td>\n",
       "                        <td id=\"T_72d4a210_7073_11e9_9a6c_afef06ef83cerow7_col1\" class=\"data row7 col1\" >0.0485523</td>\n",
       "                        <td id=\"T_72d4a210_7073_11e9_9a6c_afef06ef83cerow7_col2\" class=\"data row7 col2\" >-0.013226</td>\n",
       "                        <td id=\"T_72d4a210_7073_11e9_9a6c_afef06ef83cerow7_col3\" class=\"data row7 col3\" >0.00677831</td>\n",
       "                        <td id=\"T_72d4a210_7073_11e9_9a6c_afef06ef83cerow7_col4\" class=\"data row7 col4\" >0.0228563</td>\n",
       "                        <td id=\"T_72d4a210_7073_11e9_9a6c_afef06ef83cerow7_col5\" class=\"data row7 col5\" >0.0299476</td>\n",
       "                        <td id=\"T_72d4a210_7073_11e9_9a6c_afef06ef83cerow7_col6\" class=\"data row7 col6\" >0.0228563</td>\n",
       "                        <td id=\"T_72d4a210_7073_11e9_9a6c_afef06ef83cerow7_col7\" class=\"data row7 col7\" >1</td>\n",
       "            </tr>\n",
       "    </tbody></table>"
      ],
      "text/plain": [
       "<pandas.io.formats.style.Styler at 0x7f3798f83160>"
      ]
     },
     "execution_count": 5,
     "metadata": {},
     "output_type": "execute_result"
    }
   ],
   "source": [
    "corr = merged.corr()\n",
    "corr.style.background_gradient()"
   ]
  },
  {
   "cell_type": "code",
   "execution_count": 56,
   "metadata": {
    "scrolled": false
   },
   "outputs": [
    {
     "name": "stdout",
     "output_type": "stream",
     "text": [
      "bpm           1.000000\n",
      "steps         0.462985\n",
      "dateTime      0.003133\n",
      "minsleep      0.000633\n",
      "timebed       0.000341\n",
      "duration      0.000341\n",
      "month        -0.027073\n",
      "calories     -0.087512\n",
      "confidence   -0.506108\n",
      "Name: bpm, dtype: float64\n"
     ]
    }
   ],
   "source": [
    "print(corr[\"bpm\"].sort_values(ascending=False))"
   ]
  },
  {
   "cell_type": "code",
   "execution_count": null,
   "metadata": {},
   "outputs": [],
   "source": [
    "#Looks like steps and confidence have significant correlations with the bmp"
   ]
  },
  {
   "cell_type": "code",
   "execution_count": 57,
   "metadata": {},
   "outputs": [],
   "source": [
    "#Splitting data into training and testing sets.\n",
    "from sklearn.model_selection import train_test_split\n",
    "\n",
    "train_set, test_set = train_test_split(merged, test_size=0.2, random_state=42)"
   ]
  },
  {
   "cell_type": "code",
   "execution_count": 58,
   "metadata": {},
   "outputs": [],
   "source": [
    "#Drop our target data\n",
    "dl = train_set[\"bpm\"].copy()\n",
    "d = train_set.drop(\"bpm\", axis=1)"
   ]
  },
  {
   "cell_type": "code",
   "execution_count": 165,
   "metadata": {},
   "outputs": [],
   "source": [
    "tl = test_set[\"bpm\"].copy()\n",
    "t = test_set.drop(\"bpm\",axis=1)"
   ]
  },
  {
   "cell_type": "code",
   "execution_count": 59,
   "metadata": {
    "scrolled": true
   },
   "outputs": [],
   "source": [
    "#Beginning data modification for Machine learning\n",
    "#Using pipelines to turn month and day of week into categorical data. Scaling numerical data for better training.\n",
    "cat_attribs = ['month','dateTime']\n",
    "num_attribs = [\"confidence\",\"steps\",\"calories\",\"duration\",\"minsleep\"]\n",
    "\n",
    "cat_pipeline = Pipeline([\n",
    "    ('selector', DataFrameSelector(cat_attribs)),\n",
    "    ('cat_encoder', CategoricalEncoder(encoding=\"onehot-dense\")),\n",
    "])\n",
    "\n",
    "num_pipeline = Pipeline([\n",
    "    ('selector', DataFrameSelector(num_attribs)),\n",
    "    ('imputer', Imputer(strategy=\"median\")),\n",
    "    ('std_scaler', StandardScaler()),\n",
    "])\n",
    "full_pipeline = FeatureUnion(transformer_list=[\n",
    "    (\"num_pipeline\", num_pipeline),\n",
    "    (\"cat_pipeline\", cat_pipeline),\n",
    "])"
   ]
  },
  {
   "cell_type": "code",
   "execution_count": 60,
   "metadata": {},
   "outputs": [],
   "source": [
    "prepared_data = full_pipeline.fit_transform(d)"
   ]
  },
  {
   "cell_type": "code",
   "execution_count": 166,
   "metadata": {},
   "outputs": [],
   "source": [
    "ptest = full_pipeline.fit_transform(t)"
   ]
  },
  {
   "cell_type": "code",
   "execution_count": 62,
   "metadata": {},
   "outputs": [],
   "source": [
    "def display_scores(scores):\n",
    "    # print(\"Scores:\", scores)\n",
    "    print(\"Mean:\", scores.mean())\n",
    "    print(\"STdev:\", scores.std())"
   ]
  },
  {
   "cell_type": "code",
   "execution_count": 37,
   "metadata": {},
   "outputs": [
    {
     "name": "stdout",
     "output_type": "stream",
     "text": [
      "Mean: 10.362101283338491\n",
      "STdev: 0.004490556949845015\n"
     ]
    }
   ],
   "source": [
    "#Random Forest\n",
    "forest_reg = RandomForestRegressor()\n",
    "scores = cross_val_score(forest_reg, prepared_data, dl, scoring=\"neg_mean_squared_error\", cv=10)\n",
    "forest_rmse_scores = np.sqrt(-scores)\n",
    "display_scores(forest_rmse_scores)"
   ]
  },
  {
   "cell_type": "code",
   "execution_count": 2,
   "metadata": {},
   "outputs": [],
   "source": [
    "#This builds a dictionary with our distribution of values\n",
    "cv_scores = cross_val_predict(forest_reg,prepared_data,dl, cv=2,n_jobs=2)\n",
    "unique, counts = np.unique(cv_scores, return_counts=True)\n",
    "ddd = dict(zip(unique, counts))"
   ]
  },
  {
   "cell_type": "code",
   "execution_count": 40,
   "metadata": {
    "scrolled": true
   },
   "outputs": [
    {
     "data": {
      "image/png": "[encoded data removed]",
      "text/plain": [
       "<Figure size 432x288 with 1 Axes>"
      ]
     },
     "metadata": {
      "needs_background": "light"
     },
     "output_type": "display_data"
    }
   ],
   "source": [
    "#Gives us an idea for what our data looks like \n",
    "plt.bar(list(ddd), ddd.values(), color='b')\n",
    "plt.title(\"Distribution of labels in overfit DTR\")\n",
    "plt.xlabel(\"Ranking\")\n",
    "plt.ylabel(\"Frequency in dataset\")\n",
    "plt.show()"
   ]
  },
  {
   "cell_type": "code",
   "execution_count": 161,
   "metadata": {},
   "outputs": [],
   "source": [
    "#Moving on to using a dense neural network for predictions.\n",
    "dll = np.array(dl)"
   ]
  },
  {
   "cell_type": "code",
   "execution_count": 18,
   "metadata": {},
   "outputs": [],
   "source": [
    "def reset_graph(seed=42):\n",
    "    tf.reset_default_graph()\n",
    "    tf.set_random_seed(seed)\n",
    "    np.random.seed(seed) "
   ]
  },
  {
   "cell_type": "code",
   "execution_count": 213,
   "metadata": {},
   "outputs": [],
   "source": [
    "num_epochs = int(5e5)\n",
    "\n",
    "batch_size = 1\n",
    "\n",
    "n_inputs =36\n",
    "n_outputs = 1\n",
    "num_nodes_l1 = 128\n",
    "num_nodes_l2 = 256\n",
    "num_nodes_l3 = 128\n",
    "reset_graph()"
   ]
  },
  {
   "cell_type": "code",
   "execution_count": 214,
   "metadata": {},
   "outputs": [],
   "source": [
    "xs = tf.placeholder(tf.float32, shape=(None, n_inputs), name=\"X\")\n",
    "ys = tf.placeholder(tf.float32, shape=(None), name=\"y\") "
   ]
  },
  {
   "cell_type": "code",
   "execution_count": 215,
   "metadata": {},
   "outputs": [],
   "source": [
    "hidden1 = tf.layers.dense(xs, num_nodes_l1, name=\"hidden1\",\n",
    "                              activation=tf.nn.relu)\n",
    "hidden2 = tf.layers.dense(hidden1, num_nodes_l2, name=\"hidden2\",\n",
    "                              activation=tf.nn.relu)\n",
    "hidden3 = tf.layers.dense(hidden2, num_nodes_l3, name=\"hidden3\",\n",
    "                              activation=tf.nn.relu)\n",
    "outputs = tf.layers.dense(hidden3, n_outputs, name=\"outputs\")"
   ]
  },
  {
   "cell_type": "code",
   "execution_count": 216,
   "metadata": {},
   "outputs": [],
   "source": [
    "cost = tf.reduce_mean(tf.square(outputs-ys))\n",
    "train = tf.train.AdamOptimizer(0.001).minimize(cost)"
   ]
  },
  {
   "cell_type": "code",
   "execution_count": 217,
   "metadata": {},
   "outputs": [
    {
     "name": "stdout",
     "output_type": "stream",
     "text": [
      "0\n",
      "20000\n",
      "40000\n",
      "60000\n",
      "80000\n",
      "100000\n",
      "120000\n",
      "140000\n",
      "160000\n",
      "180000\n",
      "200000\n",
      "220000\n",
      "240000\n",
      "260000\n",
      "280000\n",
      "300000\n",
      "320000\n",
      "340000\n",
      "360000\n",
      "380000\n",
      "400000\n",
      "420000\n",
      "440000\n",
      "460000\n",
      "480000\n"
     ]
    }
   ],
   "source": [
    "with tf.Session() as sess:\n",
    "    sess.run(tf.global_variables_initializer())\n",
    "    \n",
    "    for i in range(num_epochs):\n",
    "        if not(i%(20000)):\n",
    "            print(i)\n",
    "        # select random subsets of data to train on (aka batches)\n",
    "        rnd_idx = np.random.randint(len(dll))\n",
    "        X_batch = np.array([prepared_data[rnd_idx]])\n",
    "        y_batch = dll[rnd_idx]\n",
    "        sess.run(train, feed_dict={xs: X_batch, ys: y_batch})\n",
    "        \n",
    "    # generate predicted output values for y\n",
    "    pred_ys = sess.run(outputs, feed_dict={xs:ptest})"
   ]
  },
  {
   "cell_type": "code",
   "execution_count": 211,
   "metadata": {},
   "outputs": [
    {
     "data": {
      "text/plain": [
       "Text(0.5, 1.0, 'Test Values')"
      ]
     },
     "execution_count": 211,
     "metadata": {},
     "output_type": "execute_result"
    },
    {
     "data": {
      "image/png": "[encoded data removed]",
      "text/plain": [
       "<Figure size 432x288 with 1 Axes>"
      ]
     },
     "metadata": {
      "needs_background": "light"
     },
     "output_type": "display_data"
    }
   ],
   "source": [
    "plt.hist(tl,bins = 50,range = (40,180),histtype=\"stepfilled\",label=\"Test output\")\n",
    "plt.title(\"Test Values\")"
   ]
  },
  {
   "cell_type": "code",
   "execution_count": 212,
   "metadata": {},
   "outputs": [
    {
     "data": {
      "text/plain": [
       "Text(0.5, 1.0, 'Predicted Output')"
      ]
     },
     "execution_count": 212,
     "metadata": {},
     "output_type": "execute_result"
    },
    {
     "data": {
      "image/png": "[encoded data removed]",
      "text/plain": [
       "<Figure size 432x288 with 1 Axes>"
      ]
     },
     "metadata": {
      "needs_background": "light"
     },
     "output_type": "display_data"
    }
   ],
   "source": [
    "plt.hist(pred_ys,bins = 50,range = (40,180),histtype=\"stepfilled\",label=\"Predicted output\")\n",
    "plt.title(\"Predicted Output\")"
   ]
  },
  {
   "cell_type": "code",
   "execution_count": 218,
   "metadata": {},
   "outputs": [],
   "source": [
    "err = mean_squared_error(tl, pred_ys,multioutput='raw_values')"
   ]
  },
  {
   "cell_type": "code",
   "execution_count": 219,
   "metadata": {},
   "outputs": [
    {
     "data": {
      "text/plain": [
       "array([94.24086932])"
      ]
     },
     "execution_count": 219,
     "metadata": {},
     "output_type": "execute_result"
    }
   ],
   "source": [
    "err"
   ]
  },
  {
   "cell_type": "code",
   "execution_count": 220,
   "metadata": {},
   "outputs": [
    {
     "data": {
      "text/plain": [
       "Text(0.5, 1.0, 'Test Values')"
      ]
     },
     "execution_count": 220,
     "metadata": {},
     "output_type": "execute_result"
    },
    {
     "data": {
      "image/png": "[encoded data removed]",
      "text/plain": [
       "<Figure size 432x288 with 1 Axes>"
      ]
     },
     "metadata": {
      "needs_background": "light"
     },
     "output_type": "display_data"
    }
   ],
   "source": [
    "plt.hist(tl,bins = 50,range = (40,180),histtype=\"stepfilled\",label=\"Test output\")\n",
    "plt.title(\"Test Values\")"
   ]
  },
  {
   "cell_type": "code",
   "execution_count": 222,
   "metadata": {},
   "outputs": [
    {
     "data": {
      "text/plain": [
       "Text(0.5, 1.0, 'Predicted Output Larger Size')"
      ]
     },
     "execution_count": 222,
     "metadata": {},
     "output_type": "execute_result"
    },
    {
     "data": {
      "image/png": "[encoded data removed]",
      "text/plain": [
       "<Figure size 432x288 with 1 Axes>"
      ]
     },
     "metadata": {
      "needs_background": "light"
     },
     "output_type": "display_data"
    }
   ],
   "source": [
    "#This graph was created using a larger DNN. We see similar results to the smaller network, and the decision tree. \n",
    "plt.hist(pred_ys,bins = 50,range = (40,180),histtype=\"stepfilled\",label=\"Predicted output\")\n",
    "plt.title(\"Predicted Output Larger Size\")"
   ]
  },
  {
   "cell_type": "code",
   "execution_count": 6,
   "metadata": {},
   "outputs": [],
   "source": [
    "#Time to try using a sequential model.\n",
    "#Just the bpm data\n",
    "bpm = merged.bpm"
   ]
  },
  {
   "cell_type": "code",
   "execution_count": 29,
   "metadata": {},
   "outputs": [],
   "source": [
    "bpm = np.array(bpm)"
   ]
  },
  {
   "cell_type": "code",
   "execution_count": 53,
   "metadata": {},
   "outputs": [],
   "source": [
    "bpmtrain = bpm[:int(len(bpm)*.8)]\n",
    "bpmtest = bpm[int(len(bpm)*.8):]"
   ]
  },
  {
   "cell_type": "code",
   "execution_count": 173,
   "metadata": {},
   "outputs": [],
   "source": [
    "def time_series(t):\n",
    "    return bpm.take(t)\n",
    "\n",
    "def next_batch(batch_size, n_steps):\n",
    "    t0 = np.round(np.random.rand(batch_size, 1)*len(bpmtrain)) #* (t_max - t_min - n_steps * resolution)\n",
    "    t0 = t0.astype(int)\n",
    "    Ts = t0 + np.arange(0, n_steps)# * resolution\n",
    "    ys = time_series(Ts)\n",
    "    return Ts.reshape(batch_size,n_steps,1), ys.reshape(batch_size,n_steps,1)"
   ]
  },
  {
   "cell_type": "code",
   "execution_count": 159,
   "metadata": {},
   "outputs": [],
   "source": [
    "reset_graph()\n",
    "\n",
    "n_steps = 20\n",
    "n_inputs = 1\n",
    "n_neurons = 100\n",
    "\n",
    "X = tf.placeholder(tf.float32, [None, n_steps, n_inputs])\n",
    "y = tf.placeholder(tf.float32, [None, n_steps, n_outputs])"
   ]
  },
  {
   "cell_type": "markdown",
   "metadata": {},
   "source": [
    "I'll be taking 20 timesteps of bpm readings as an input to the network. At each epoch, 30 selections of these timesteps are taken and used as training data. "
   ]
  },
  {
   "cell_type": "code",
   "execution_count": 160,
   "metadata": {},
   "outputs": [],
   "source": [
    "cell = tf.nn.rnn_cell.BasicRNNCell(num_units=n_neurons, activation=tf.nn.relu)\n",
    "rnn_outputs, states = tf.nn.dynamic_rnn(cell, X, dtype=tf.float32)"
   ]
  },
  {
   "cell_type": "code",
   "execution_count": 161,
   "metadata": {},
   "outputs": [],
   "source": [
    "n_outputs = 1\n",
    "learning_rate = 0.001"
   ]
  },
  {
   "cell_type": "code",
   "execution_count": 162,
   "metadata": {},
   "outputs": [],
   "source": [
    "stacked_rnn_outputs = tf.reshape(rnn_outputs, [-1, n_neurons])\n",
    "stacked_outputs = tf.layers.dense(stacked_rnn_outputs, n_outputs)\n",
    "outputs = tf.reshape(stacked_outputs, [-1, n_steps, n_outputs])"
   ]
  },
  {
   "cell_type": "code",
   "execution_count": 163,
   "metadata": {},
   "outputs": [],
   "source": [
    "loss = tf.reduce_mean(tf.square(outputs - y))\n",
    "optimizer = tf.train.AdamOptimizer(learning_rate=learning_rate)\n",
    "training_op = optimizer.minimize(loss)\n",
    "\n",
    "init = tf.global_variables_initializer()\n",
    "saver = tf.train.Saver()"
   ]
  },
  {
   "cell_type": "code",
   "execution_count": 185,
   "metadata": {
    "scrolled": true
   },
   "outputs": [
    {
     "name": "stdout",
     "output_type": "stream",
     "text": [
      "0 \tMSE: 1354386700.0\n",
      "10000 \tMSE: 5237834.5\n",
      "20000 \tMSE: 8170.5967\n",
      "30000 \tMSE: 3233.3745\n",
      "40000 \tMSE: 1630.3516\n",
      "50000 \tMSE: 4496.7607\n",
      "60000 \tMSE: 2491.466\n",
      "70000 \tMSE: 1888.9531\n",
      "80000 \tMSE: 1418.7998\n",
      "90000 \tMSE: 938.8425\n",
      "100000 \tMSE: 1228.2261\n",
      "110000 \tMSE: 825.706\n",
      "120000 \tMSE: 426.2256\n",
      "130000 \tMSE: 955.52045\n",
      "140000 \tMSE: 735.1535\n",
      "150000 \tMSE: 1649.6368\n",
      "160000 \tMSE: 299.22287\n",
      "170000 \tMSE: 883.7842\n",
      "180000 \tMSE: 529.5292\n",
      "190000 \tMSE: 724.0439\n",
      "200000 \tMSE: 193.87909\n",
      "210000 \tMSE: 125.74873\n",
      "220000 \tMSE: 177.20943\n",
      "230000 \tMSE: 171.34787\n",
      "240000 \tMSE: 128.28781\n",
      "250000 \tMSE: 245.26695\n",
      "260000 \tMSE: 206.82489\n",
      "270000 \tMSE: 191.22101\n",
      "280000 \tMSE: 127.09018\n",
      "290000 \tMSE: 132.87123\n",
      "300000 \tMSE: 325.05807\n",
      "310000 \tMSE: 129.23956\n",
      "320000 \tMSE: 199.20607\n",
      "330000 \tMSE: 101.339096\n",
      "340000 \tMSE: 151.21964\n",
      "350000 \tMSE: 163.48013\n",
      "360000 \tMSE: 127.35039\n",
      "370000 \tMSE: 202.51286\n",
      "380000 \tMSE: 261.45703\n",
      "390000 \tMSE: 165.10403\n",
      "400000 \tMSE: 92.584656\n",
      "410000 \tMSE: 128.40237\n",
      "420000 \tMSE: 109.18617\n",
      "430000 \tMSE: 199.18526\n",
      "440000 \tMSE: 104.50456\n",
      "450000 \tMSE: 266.06305\n",
      "460000 \tMSE: 173.96326\n",
      "470000 \tMSE: 118.81668\n",
      "480000 \tMSE: 205.65529\n",
      "490000 \tMSE: 219.14998\n",
      "500000 \tMSE: 198.07182\n",
      "510000 \tMSE: 279.94223\n",
      "520000 \tMSE: 137.3714\n",
      "530000 \tMSE: 104.41288\n",
      "540000 \tMSE: 116.771484\n",
      "550000 \tMSE: 205.14981\n",
      "560000 \tMSE: 392.85184\n",
      "570000 \tMSE: 273.50433\n",
      "580000 \tMSE: 178.17744\n",
      "590000 \tMSE: 169.31995\n",
      "600000 \tMSE: 178.072\n",
      "610000 \tMSE: 281.76556\n",
      "620000 \tMSE: 112.80364\n",
      "630000 \tMSE: 131.45053\n",
      "640000 \tMSE: 164.34578\n"
     ]
    }
   ],
   "source": [
    "n_iterations = 650000\n",
    "batch_size = 30\n",
    "\n",
    "with tf.Session() as sess:\n",
    "    init.run()\n",
    "    for iteration in range(n_iterations):\n",
    "        X_batch, y_batch = next_batch(batch_size, n_steps)\n",
    "        sess.run(training_op, feed_dict={X: X_batch, y: y_batch})\n",
    "        if iteration % 10000 == 0:\n",
    "            mse = loss.eval(feed_dict={X: X_batch, y: y_batch})\n",
    "            print(iteration, \"\\tMSE:\", mse)\n",
    "    t_instance,actual_t =  next_batch(batch_size, n_steps)\n",
    "     \n",
    "    X_new = time_series(np.array(t_instance[:-1].reshape(-1, n_steps, n_inputs)))\n",
    "    y_pred = sess.run(outputs, feed_dict={X: X_new})\n",
    "    \n",
    "    saver.save(sess, \"./my_time_series_model\")"
   ]
  },
  {
   "cell_type": "markdown",
   "metadata": {},
   "source": [
    "More work needs to be done on the time series model. Currently it hovers around the average bpm reading for the whole dataset. Not very useful as a predictor. "
   ]
  },
  {
   "cell_type": "code",
   "execution_count": 5,
   "metadata": {},
   "outputs": [],
   "source": [
    "y_pred"
   ]
  },
  {
   "cell_type": "code",
   "execution_count": 6,
   "metadata": {},
   "outputs": [],
   "source": [
    "actual_t"
   ]
  },
  {
   "cell_type": "code",
   "execution_count": 191,
   "metadata": {},
   "outputs": [
    {
     "data": {
      "text/plain": [
       "(array([2.15000e+02, 3.65000e+02, 5.96000e+02, 1.15000e+03, 2.47200e+03,\n",
       "        1.54250e+04, 5.27610e+04, 1.22726e+05, 1.98722e+05, 1.57738e+05,\n",
       "        2.44499e+05, 2.49768e+05, 2.56975e+05, 2.43427e+05, 1.54308e+05,\n",
       "        1.87135e+05, 1.47610e+05, 1.06816e+05, 8.55080e+04, 4.61720e+04,\n",
       "        5.29640e+04, 3.72290e+04, 3.01290e+04, 2.42810e+04, 1.37400e+04,\n",
       "        1.63660e+04, 1.25830e+04, 9.18700e+03, 7.26400e+03, 4.04000e+03,\n",
       "        5.15000e+03, 4.14800e+03, 3.10400e+03, 2.58000e+03, 1.41800e+03,\n",
       "        1.68200e+03, 1.50300e+03, 1.21700e+03, 9.31000e+02, 4.73000e+02,\n",
       "        5.29000e+02, 4.51000e+02, 3.89000e+02, 3.47000e+02, 1.42000e+02,\n",
       "        2.16000e+02, 1.96000e+02, 1.60000e+02, 9.90000e+01, 1.17000e+02]),\n",
       " array([ 42. ,  44.8,  47.6,  50.4,  53.2,  56. ,  58.8,  61.6,  64.4,\n",
       "         67.2,  70. ,  72.8,  75.6,  78.4,  81.2,  84. ,  86.8,  89.6,\n",
       "         92.4,  95.2,  98. , 100.8, 103.6, 106.4, 109.2, 112. , 114.8,\n",
       "        117.6, 120.4, 123.2, 126. , 128.8, 131.6, 134.4, 137.2, 140. ,\n",
       "        142.8, 145.6, 148.4, 151.2, 154. , 156.8, 159.6, 162.4, 165.2,\n",
       "        168. , 170.8, 173.6, 176.4, 179.2, 182. ]),\n",
       " <a list of 50 Patch objects>)"
      ]
     },
     "execution_count": 191,
     "metadata": {},
     "output_type": "execute_result"
    },
    {
     "data": {
      "image/png": "[encoded data removed]",
      "text/plain": [
       "<Figure size 432x288 with 1 Axes>"
      ]
     },
     "metadata": {
      "needs_background": "light"
     },
     "output_type": "display_data"
    }
   ],
   "source": [
    "plt.hist(bpm,bins=50)"
   ]
  },
  {
   "cell_type": "code",
   "execution_count": 13,
   "metadata": {},
   "outputs": [],
   "source": [
    "# Allows feeding a pandas dataframe containing non-numerical values directly into a pipeline - drops them\n",
    "class DataFrameSelector(BaseEstimator, TransformerMixin):\n",
    "    def __init__(self, attribute_names):\n",
    "        self.attribute_names = attribute_names\n",
    "\n",
    "    def fit(self, X, y=None):\n",
    "        return self\n",
    "\n",
    "    def transform(self, X):\n",
    "        return X[self.attribute_names].values\n",
    "\n",
    "    # Definition of the CategoricalEncoder class, copied from PR #9151.\n",
    "    # Just run this cell, or copy it to your code, do not try to understand it (yet).\n",
    "\n",
    "    from sklearn.base import BaseEstimator, TransformerMixin\n",
    "    from sklearn.utils import check_array\n",
    "    from sklearn.preprocessing import LabelEncoder\n",
    "    from scipy import sparse\n",
    "# Present in SKlearn .20 dev0\n",
    "class CategoricalEncoder(BaseEstimator, TransformerMixin):\n",
    "    \"\"\"Encode categorical features as a numeric array.\n",
    "    The input to this transformer should be a matrix of integers or strings,\n",
    "    denoting the values taken on by categorical (discrete) features.\n",
    "    The features can be encoded using a one-hot aka one-of-K scheme\n",
    "    (``encoding='onehot'``, the default) or converted to ordinal integers\n",
    "    (``encoding='ordinal'``).\n",
    "    This encoding is needed for feeding categorical data to many scikit-learn\n",
    "    estimators, notably linear models and SVMs with the standard kernels.\n",
    "    Read more in the :ref:`User Guide <preprocessing_categorical_features>`.\n",
    "    Parameters\n",
    "    ----------\n",
    "    encoding : str, 'onehot', 'onehot-dense' or 'ordinal'\n",
    "        The type of encoding to use (default is 'onehot'):\n",
    "        - 'onehot': encode the features using a one-hot aka one-of-K scheme\n",
    "          (or also called 'dummy' encoding). This creates a binary column for\n",
    "          each category and returns a sparse matrix.\n",
    "        - 'onehot-dense': the same as 'onehot' but returns a dense array\n",
    "          instead of a sparse matrix.\n",
    "        - 'ordinal': encode the features as ordinal integers. This results in\n",
    "          a single column of integers (0 to n_categories - 1) per feature.\n",
    "    categories : 'auto' or a list of lists/arrays of values.\n",
    "        Categories (unique values) per feature:\n",
    "        - 'auto' : Determine categories automatically from the training data.\n",
    "        - list : ``categories[i]`` holds the categories expected in the ith\n",
    "          column. The passed categories are sorted before encoding the data\n",
    "          (used categories can be found in the ``categories_`` attribute).\n",
    "    dtype : number type, default np.float64\n",
    "        Desired dtype of output.\n",
    "    handle_unknown : 'error' (default) or 'ignore'\n",
    "        Whether to raise an error or ignore if a unknown categorical feature is\n",
    "        present during transform (default is to raise). When this is parameter\n",
    "        is set to 'ignore' and an unknown category is encountered during\n",
    "        transform, the resulting one-hot encoded columns for this feature\n",
    "        will be all zeros.\n",
    "        Ignoring unknown categories is not supported for\n",
    "        ``encoding='ordinal'``.\n",
    "    Attributes\n",
    "    ----------\n",
    "    categories_ : list of arrays\n",
    "        The categories of each feature determined during fitting. When\n",
    "        categories were specified manually, this holds the sorted categories\n",
    "        (in order corresponding with output of `transform`).\n",
    "    Examples\n",
    "    --------\n",
    "    Given a dataset with three features and two samples, we let the encoder\n",
    "    find the maximum value per feature and transform the data to a binary\n",
    "    one-hot encoding.\n",
    "    CategoricalEncoder(categories='auto', dtype=<... 'numpy.float64'>,\n",
    "              encoding='onehot', handle_unknown='ignore')\n",
    "    array([[ 1.,  0.,  0.,  1.,  0.,  0.,  1.,  0.,  0.],\n",
    "           [ 0.,  1.,  1.,  0.,  0.,  0.,  0.,  0.,  0.]])\n",
    "    See also\n",
    "    --------\n",
    "    sklearn.preprocessing.OneHotEncoder : performs a one-hot encoding of\n",
    "      integer ordinal features. The ``OneHotEncoder assumes`` that input\n",
    "      features take on values in the range ``[0, max(feature)]`` instead of\n",
    "      using the unique values.\n",
    "    sklearn.feature_extraction.DictVectorizer : performs a one-hot encoding of\n",
    "      dictionary items (also handles string-valued features).\n",
    "    sklearn.feature_extraction.FeatureHasher : performs an approximate one-hot\n",
    "      encoding of dictionary items or strings.\n",
    "    \"\"\"\n",
    "\n",
    "    def __init__(self, encoding='onehot', categories='auto', dtype=np.float64,\n",
    "                 handle_unknown='error'):\n",
    "        self.encoding = encoding\n",
    "        self.categories = categories\n",
    "        self.dtype = dtype\n",
    "        self.handle_unknown = handle_unknown\n",
    "\n",
    "    def fit(self, X, y=None):\n",
    "        \"\"\"Fit the CategoricalEncoder to X.\n",
    "        Parameters\n",
    "        ----------\n",
    "        X : array-like, shape [n_samples, n_feature]\n",
    "            The data to determine the categories of each feature.\n",
    "        Returns\n",
    "        -------\n",
    "        self\n",
    "        \"\"\"\n",
    "\n",
    "        if self.encoding not in ['onehot', 'onehot-dense', 'ordinal']:\n",
    "            template = (\"encoding should be either 'onehot', 'onehot-dense' \"\n",
    "                        \"or 'ordinal', got %s\")\n",
    "            raise ValueError(template % self.handle_unknown)\n",
    "\n",
    "        if self.handle_unknown not in ['error', 'ignore']:\n",
    "            template = (\"handle_unknown should be either 'error' or \"\n",
    "                        \"'ignore', got %s\")\n",
    "            raise ValueError(template % self.handle_unknown)\n",
    "\n",
    "        if self.encoding == 'ordinal' and self.handle_unknown == 'ignore':\n",
    "            raise ValueError(\"handle_unknown='ignore' is not supported for\"\n",
    "                             \" encoding='ordinal'\")\n",
    "\n",
    "        X = check_array(X, dtype=np.object, accept_sparse='csc', copy=True)\n",
    "        n_samples, n_features = X.shape\n",
    "\n",
    "        self._label_encoders_ = [LabelEncoder() for _ in range(n_features)]\n",
    "\n",
    "        for i in range(n_features):\n",
    "            le = self._label_encoders_[i]\n",
    "            Xi = X[:, i]\n",
    "            if self.categories == 'auto':\n",
    "                le.fit(Xi)\n",
    "            else:\n",
    "                valid_mask = np.in1d(Xi, self.categories[i])\n",
    "                if not np.all(valid_mask):\n",
    "                    if self.handle_unknown == 'error':\n",
    "                        diff = np.unique(Xi[~valid_mask])\n",
    "                        msg = (\"Found unknown categories {0} in column {1}\"\n",
    "                               \" during fit\".format(diff, i))\n",
    "                        raise ValueError(msg)\n",
    "                le.classes_ = np.array(np.sort(self.categories[i]))\n",
    "\n",
    "        self.categories_ = [le.classes_ for le in self._label_encoders_]\n",
    "\n",
    "        return self\n",
    "\n",
    "    def transform(self, X):\n",
    "        \"\"\"Transform X using one-hot encoding.\n",
    "        Parameters\n",
    "        ----------\n",
    "        X : array-like, shape [n_samples, n_features]\n",
    "            The data to encode.\n",
    "        Returns\n",
    "        -------\n",
    "        X_out : sparse matrix or a 2-d array\n",
    "            Transformed input.\n",
    "        \"\"\"\n",
    "        X = check_array(X, accept_sparse='csc', dtype=np.object, copy=True)\n",
    "        n_samples, n_features = X.shape\n",
    "        X_int = np.zeros_like(X, dtype=np.int)\n",
    "        X_mask = np.ones_like(X, dtype=np.bool)\n",
    "\n",
    "        for i in range(n_features):\n",
    "            valid_mask = np.in1d(X[:, i], self.categories_[i])\n",
    "\n",
    "            if not np.all(valid_mask):\n",
    "                if self.handle_unknown == 'error':\n",
    "                    diff = np.unique(X[~valid_mask, i])\n",
    "                    msg = (\"Found unknown categories {0} in column {1}\"\n",
    "                           \" during transform\".format(diff, i))\n",
    "                    raise ValueError(msg)\n",
    "                else:\n",
    "                    # Set the problematic rows to an acceptable value and\n",
    "                    # continue `The rows are marked `X_mask` and will be\n",
    "                    # removed later.\n",
    "                    X_mask[:, i] = valid_mask\n",
    "                    X[:, i][~valid_mask] = self.categories_[i][0]\n",
    "            X_int[:, i] = self._label_encoders_[i].transform(X[:, i])\n",
    "\n",
    "        if self.encoding == 'ordinal':\n",
    "            return X_int.astype(self.dtype, copy=False)\n",
    "\n",
    "        mask = X_mask.ravel()\n",
    "        n_values = [cats.shape[0] for cats in self.categories_]\n",
    "        n_values = np.array([0] + n_values)\n",
    "        indices = np.cumsum(n_values)\n",
    "\n",
    "        column_indices = (X_int + indices[:-1]).ravel()[mask]\n",
    "        row_indices = np.repeat(np.arange(n_samples, dtype=np.int32),\n",
    "                                n_features)[mask]\n",
    "        data = np.ones(n_samples * n_features)[mask]\n",
    "\n",
    "        out = sparse.csc_matrix((data, (row_indices, column_indices)),\n",
    "                                shape=(n_samples, indices[-1]),\n",
    "                                dtype=self.dtype).tocsr()\n",
    "        if self.encoding == 'onehot-dense':\n",
    "            return out.toarray()\n",
    "        else:\n",
    "            return out"
   ]
  },
  {
   "cell_type": "code",
   "execution_count": null,
   "metadata": {},
   "outputs": [],
   "source": []
  }
 ],
 "metadata": {
  "kernelspec": {
   "display_name": "Python 3",
   "language": "python",
   "name": "python3"
  },
  "language_info": {
   "codemirror_mode": {
    "name": "ipython",
    "version": 3
   },
   "file_extension": ".py",
   "mimetype": "text/x-python",
   "name": "python",
   "nbconvert_exporter": "python",
   "pygments_lexer": "ipython3",
   "version": "3.7.0"
  }
 },
 "nbformat": 4,
 "nbformat_minor": 2
}
